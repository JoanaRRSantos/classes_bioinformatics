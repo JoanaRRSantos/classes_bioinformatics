{
 "cells": [
  {
   "cell_type": "markdown",
   "metadata": {},
   "source": [
    "# Análise do dataset \"Uterine Corpus Endometrial Carcinoma\""
   ]
  },
  {
   "cell_type": "markdown",
   "metadata": {},
   "source": [
    "## Etapa 1:"
   ]
  },
  {
   "cell_type": "markdown",
   "metadata": {},
   "source": [
    "O artigo aborda a caracterização genómica, transcriptómica e proteómica de 307 carcinomas endométricos. \n",
    "De acordo com o artigo as amostras foram retiradas de 373 pacientes, destas, 307 amostras correspondem a endometrial adenocarcinoma, 66 são serous endometrial adenocarcinoma e as restantes 13 são uma mistura das duas anteriores. No entanto, no dataset o número de amostras é 527 no total, sendo que 399 correspondem a 'Endometrioid Endometrial Adenocarcinoma', 109 são 'Serous Endometrial Adenocarcinoma' e os restantes 21 correspondem a 'Mixed Serous and Endometrioid Carcinoma'.\n",
    "\n",
    "Os investigadores classificaram os carcinomas endométricos em quatro categorias:  'POLE ultramutated' (UCEC_POLE), 'microsatellite instability hypermutated' (UCEC_MSI), 'copy number low' (UCEC_CN_LOW) e 'copy number high' (UCEC_CN_HIGH). Concluiram também, que carcinomas serosos do útero  partilham características genómicas com o carcinoma seroso dos ovários e o carcinoma basal da mama. \n"
   ]
  },
  {
   "cell_type": "markdown",
   "metadata": {},
   "source": [
    "## Etapa 2: "
   ]
  },
  {
   "cell_type": "markdown",
   "metadata": {},
   "source": [
    "### Carregamento dos dados e metadados:"
   ]
  },
  {
   "cell_type": "code",
   "execution_count": 16,
   "metadata": {},
   "outputs": [],
   "source": [
    "import pandas as pd\n",
    "import matplotlib.pyplot as plt \n",
    "from sklearn import preprocessing\n",
    "\n",
    "\n",
    "%matplotlib inline\n",
    "\n",
    "data_patient=pd.read_csv('data_clinical_patient.txt', sep='\\t', header = 4)\n",
    "data_sample=pd.read_csv('data_clinical_sample.txt', sep='\\t',header = 4)\n",
    "\n",
    "data_RNA = pd.read_csv('data_RNA_Seq_v2_expression_median.txt', sep='\\t')\n",
    "\n",
    "#data_sample"
   ]
  },
  {
   "cell_type": "markdown",
   "metadata": {},
   "source": [
    "### Pré-processamento dos metadados:"
   ]
  },
  {
   "cell_type": "code",
   "execution_count": 17,
   "metadata": {},
   "outputs": [],
   "source": [
    "data_sample.sort_values(by = ['PATIENT_ID'])\n",
    "data_patient.sort_values(by = ['PATIENT_ID'])\n",
    "data_sample['SUBTYPE'] = 'default value'\n",
    "\n",
    "for i in range(len(data_sample['PATIENT_ID'])):\n",
    "    if data_patient['PATIENT_ID'][i] == data_sample['PATIENT_ID'][i]:\n",
    "        data_sample['SUBTYPE'] = data_patient['SUBTYPE']\n",
    "    \n",
    "#data_sample"
   ]
  },
  {
   "cell_type": "markdown",
   "metadata": {},
   "source": [
    "### Verificar se há valores NA's:"
   ]
  },
  {
   "cell_type": "code",
   "execution_count": 18,
   "metadata": {},
   "outputs": [
    {
     "data": {
      "text/plain": [
       "1070525"
      ]
     },
     "execution_count": 18,
     "metadata": {},
     "output_type": "execute_result"
    }
   ],
   "source": [
    "data_RNA.isnull().sum().sum()"
   ]
  },
  {
   "cell_type": "markdown",
   "metadata": {},
   "source": [
    "### Retirar os NA's:"
   ]
  },
  {
   "cell_type": "code",
   "execution_count": 19,
   "metadata": {
    "scrolled": true
   },
   "outputs": [
    {
     "name": "stdout",
     "output_type": "stream",
     "text": [
      "(17494, 529)\n"
     ]
    }
   ],
   "source": [
    "data_RNA=data_RNA.dropna()\n",
    "data_RNA.isnull().sum().sum()\n",
    "print(data_RNA.shape)"
   ]
  },
  {
   "cell_type": "markdown",
   "metadata": {},
   "source": [
    "### Descrição de algumas metricas dos dados:"
   ]
  },
  {
   "cell_type": "code",
   "execution_count": null,
   "metadata": {},
   "outputs": [],
   "source": [
    "data_RNA.describe()"
   ]
  },
  {
   "cell_type": "markdown",
   "metadata": {},
   "source": [
    "### Trim de colunas:"
   ]
  },
  {
   "cell_type": "code",
   "execution_count": 20,
   "metadata": {},
   "outputs": [
    {
     "data": {
      "text/plain": [
       "{'TCGA-AP-A0LQ-01', 'TCGA-EY-A1GJ-01'}"
      ]
     },
     "execution_count": 20,
     "metadata": {},
     "output_type": "execute_result"
    }
   ],
   "source": [
    "x_samples = []\n",
    "for i in range(len(data_sample['SAMPLE_ID'])):\n",
    "    x_samples.append(data_sample['SAMPLE_ID'][i])\n",
    "\n",
    "x_data = []\n",
    "for i in range(len(data_RNA.columns)):\n",
    "    x_data.append(data_RNA.columns[i])\n",
    "\n",
    "x_data.sort()\n",
    "x_samples.sort()\n",
    "\n",
    "set(x_samples)-set(x_data)"
   ]
  },
  {
   "cell_type": "code",
   "execution_count": 21,
   "metadata": {},
   "outputs": [],
   "source": [
    "l = list(range(len(data_RNA.index)))\n",
    "data_RNA.set_index([l], inplace = True)\n"
   ]
  },
  {
   "cell_type": "code",
   "execution_count": 22,
   "metadata": {},
   "outputs": [],
   "source": [
    "data_trim=data_RNA.drop(columns = [\"Hugo_Symbol\"])"
   ]
  },
  {
   "cell_type": "code",
   "execution_count": 23,
   "metadata": {},
   "outputs": [],
   "source": [
    "data_sample[data_sample['SAMPLE_ID']=='TCGA-AP-A0LQ-01'].index\n",
    "data_sample.drop(data_sample.index[data_sample[data_sample['SAMPLE_ID']=='TCGA-AP-A0LQ-01'].index], inplace = True)"
   ]
  },
  {
   "cell_type": "code",
   "execution_count": 24,
   "metadata": {},
   "outputs": [],
   "source": [
    "data_sample[data_sample['SAMPLE_ID']=='TCGA-EY-A1GJ-01'].index\n",
    "data_sample.drop(data_sample.index[data_sample[data_sample['SAMPLE_ID']=='TCGA-EY-A1GJ-01'].index], inplace = True)"
   ]
  },
  {
   "cell_type": "code",
   "execution_count": 25,
   "metadata": {},
   "outputs": [],
   "source": [
    "data_patient[data_patient['PATIENT_ID']=='TCGA-AP-A0LQ'].index\n",
    "data_patient.drop(data_patient.index[data_patient[data_patient['PATIENT_ID']=='TCGA-AP-A0LQ'].index], inplace = True)"
   ]
  },
  {
   "cell_type": "code",
   "execution_count": 26,
   "metadata": {},
   "outputs": [],
   "source": [
    "data_patient[data_patient['PATIENT_ID']=='TCGA-EY-A1GJ'].index\n",
    "data_patient.drop(data_patient.index[data_patient[data_patient['PATIENT_ID']=='TCGA-EY-A1GJ'].index], inplace = True)"
   ]
  },
  {
   "cell_type": "code",
   "execution_count": 27,
   "metadata": {},
   "outputs": [
    {
     "name": "stdout",
     "output_type": "stream",
     "text": [
      "(17494, 528)\n",
      "(527, 53)\n"
     ]
    }
   ],
   "source": [
    "print(data_trim.shape)\n",
    "print(data_sample.shape)"
   ]
  },
  {
   "cell_type": "markdown",
   "metadata": {},
   "source": [
    "### Normalização dos dados:"
   ]
  },
  {
   "cell_type": "code",
   "execution_count": 28,
   "metadata": {},
   "outputs": [
    {
     "data": {
      "text/plain": [
       "(17494, 527)"
      ]
     },
     "execution_count": 28,
     "metadata": {},
     "output_type": "execute_result"
    }
   ],
   "source": [
    "import numpy as np\n",
    "data_gene = np.array(data_trim['Entrez_Gene_Id'])\n",
    "data_t = data_trim.drop(columns = ['Entrez_Gene_Id'])\n",
    "data_RNA_1 = preprocessing.scale(data_t)\n",
    "data_all = pd.DataFrame(data_RNA_1, columns = data_t.columns)\n",
    "data_all.shape"
   ]
  },
  {
   "cell_type": "markdown",
   "metadata": {},
   "source": [
    "### Adicionar a coluna dos metadados ao dataset:"
   ]
  },
  {
   "cell_type": "code",
   "execution_count": 29,
   "metadata": {
    "collapsed": true
   },
   "outputs": [
    {
     "data": {
      "text/html": [
       "<div>\n",
       "<style scoped>\n",
       "    .dataframe tbody tr th:only-of-type {\n",
       "        vertical-align: middle;\n",
       "    }\n",
       "\n",
       "    .dataframe tbody tr th {\n",
       "        vertical-align: top;\n",
       "    }\n",
       "\n",
       "    .dataframe thead th {\n",
       "        text-align: right;\n",
       "    }\n",
       "</style>\n",
       "<table border=\"1\" class=\"dataframe\">\n",
       "  <thead>\n",
       "    <tr style=\"text-align: right;\">\n",
       "      <th></th>\n",
       "      <th>0</th>\n",
       "      <th>1</th>\n",
       "      <th>2</th>\n",
       "      <th>3</th>\n",
       "      <th>4</th>\n",
       "      <th>5</th>\n",
       "      <th>6</th>\n",
       "      <th>7</th>\n",
       "      <th>8</th>\n",
       "      <th>9</th>\n",
       "      <th>...</th>\n",
       "      <th>17485</th>\n",
       "      <th>17486</th>\n",
       "      <th>17487</th>\n",
       "      <th>17488</th>\n",
       "      <th>17489</th>\n",
       "      <th>17490</th>\n",
       "      <th>17491</th>\n",
       "      <th>17492</th>\n",
       "      <th>17493</th>\n",
       "      <th>CANCER_SUB</th>\n",
       "    </tr>\n",
       "  </thead>\n",
       "  <tbody>\n",
       "    <tr>\n",
       "      <th>TCGA-2E-A9G8-01</th>\n",
       "      <td>-0.265437</td>\n",
       "      <td>-0.270850</td>\n",
       "      <td>-0.270967</td>\n",
       "      <td>-0.254109</td>\n",
       "      <td>1.237661</td>\n",
       "      <td>-0.268849</td>\n",
       "      <td>-0.188596</td>\n",
       "      <td>0.001917</td>\n",
       "      <td>-0.056096</td>\n",
       "      <td>-0.263083</td>\n",
       "      <td>...</td>\n",
       "      <td>0.026982</td>\n",
       "      <td>-0.264966</td>\n",
       "      <td>-0.218367</td>\n",
       "      <td>-0.030090</td>\n",
       "      <td>-0.258023</td>\n",
       "      <td>-0.109284</td>\n",
       "      <td>1.174178</td>\n",
       "      <td>-0.229782</td>\n",
       "      <td>-0.121875</td>\n",
       "      <td>UCEC_CN_HIGH</td>\n",
       "    </tr>\n",
       "    <tr>\n",
       "      <th>TCGA-4E-A92E-01</th>\n",
       "      <td>-0.315839</td>\n",
       "      <td>-0.321774</td>\n",
       "      <td>-0.321365</td>\n",
       "      <td>-0.272522</td>\n",
       "      <td>3.609268</td>\n",
       "      <td>-0.298169</td>\n",
       "      <td>0.060142</td>\n",
       "      <td>-0.091724</td>\n",
       "      <td>-0.061023</td>\n",
       "      <td>-0.321228</td>\n",
       "      <td>...</td>\n",
       "      <td>-0.125154</td>\n",
       "      <td>-0.299533</td>\n",
       "      <td>-0.179050</td>\n",
       "      <td>0.009794</td>\n",
       "      <td>-0.321365</td>\n",
       "      <td>-0.113419</td>\n",
       "      <td>0.839393</td>\n",
       "      <td>0.058913</td>\n",
       "      <td>-0.052700</td>\n",
       "      <td>UCEC_CN_LOW</td>\n",
       "    </tr>\n",
       "    <tr>\n",
       "      <th>TCGA-5B-A90C-01</th>\n",
       "      <td>-0.340378</td>\n",
       "      <td>-0.343235</td>\n",
       "      <td>-0.342822</td>\n",
       "      <td>-0.318773</td>\n",
       "      <td>0.929263</td>\n",
       "      <td>-0.323613</td>\n",
       "      <td>-0.029079</td>\n",
       "      <td>-0.028149</td>\n",
       "      <td>-0.145674</td>\n",
       "      <td>-0.343235</td>\n",
       "      <td>...</td>\n",
       "      <td>0.087412</td>\n",
       "      <td>-0.334354</td>\n",
       "      <td>-0.281787</td>\n",
       "      <td>0.014297</td>\n",
       "      <td>-0.339001</td>\n",
       "      <td>-0.108496</td>\n",
       "      <td>1.003857</td>\n",
       "      <td>-0.224781</td>\n",
       "      <td>0.013471</td>\n",
       "      <td>UCEC_CN_HIGH</td>\n",
       "    </tr>\n",
       "    <tr>\n",
       "      <th>TCGA-5S-A9Q8-01</th>\n",
       "      <td>-0.260477</td>\n",
       "      <td>-0.276136</td>\n",
       "      <td>-0.276136</td>\n",
       "      <td>-0.257653</td>\n",
       "      <td>0.870224</td>\n",
       "      <td>-0.269506</td>\n",
       "      <td>0.118097</td>\n",
       "      <td>0.266600</td>\n",
       "      <td>-0.021121</td>\n",
       "      <td>-0.276136</td>\n",
       "      <td>...</td>\n",
       "      <td>-0.116586</td>\n",
       "      <td>-0.273484</td>\n",
       "      <td>-0.227961</td>\n",
       "      <td>-0.042336</td>\n",
       "      <td>-0.271716</td>\n",
       "      <td>-0.178903</td>\n",
       "      <td>0.314772</td>\n",
       "      <td>-0.071947</td>\n",
       "      <td>-0.106863</td>\n",
       "      <td>UCEC_CN_LOW</td>\n",
       "    </tr>\n",
       "    <tr>\n",
       "      <th>TCGA-A5-A1OH-01</th>\n",
       "      <td>-0.256232</td>\n",
       "      <td>-0.331695</td>\n",
       "      <td>-0.331026</td>\n",
       "      <td>-0.259853</td>\n",
       "      <td>1.924777</td>\n",
       "      <td>-0.329577</td>\n",
       "      <td>-0.259671</td>\n",
       "      <td>0.181057</td>\n",
       "      <td>-0.152304</td>\n",
       "      <td>-0.270932</td>\n",
       "      <td>...</td>\n",
       "      <td>0.099335</td>\n",
       "      <td>-0.327012</td>\n",
       "      <td>-0.268144</td>\n",
       "      <td>0.137576</td>\n",
       "      <td>-0.319096</td>\n",
       "      <td>-0.120083</td>\n",
       "      <td>0.786686</td>\n",
       "      <td>-0.160220</td>\n",
       "      <td>-0.140263</td>\n",
       "      <td>UCEC_POLE</td>\n",
       "    </tr>\n",
       "    <tr>\n",
       "      <th>TCGA-A5-A2K2-01</th>\n",
       "      <td>-0.295557</td>\n",
       "      <td>-0.336019</td>\n",
       "      <td>-0.336019</td>\n",
       "      <td>-0.305282</td>\n",
       "      <td>0.747281</td>\n",
       "      <td>-0.334751</td>\n",
       "      <td>0.199290</td>\n",
       "      <td>-0.082709</td>\n",
       "      <td>-0.112352</td>\n",
       "      <td>-0.330471</td>\n",
       "      <td>...</td>\n",
       "      <td>0.130021</td>\n",
       "      <td>-0.310498</td>\n",
       "      <td>-0.171796</td>\n",
       "      <td>0.074856</td>\n",
       "      <td>-0.319216</td>\n",
       "      <td>-0.141361</td>\n",
       "      <td>0.334031</td>\n",
       "      <td>-0.096184</td>\n",
       "      <td>-0.068126</td>\n",
       "      <td>UCEC_POLE</td>\n",
       "    </tr>\n",
       "    <tr>\n",
       "      <th>TCGA-A5-A2K3-01</th>\n",
       "      <td>-0.068665</td>\n",
       "      <td>-0.104029</td>\n",
       "      <td>-0.104098</td>\n",
       "      <td>-0.091622</td>\n",
       "      <td>0.523203</td>\n",
       "      <td>-0.104098</td>\n",
       "      <td>-0.027102</td>\n",
       "      <td>-0.015128</td>\n",
       "      <td>-0.061423</td>\n",
       "      <td>-0.104098</td>\n",
       "      <td>...</td>\n",
       "      <td>-0.043601</td>\n",
       "      <td>-0.102915</td>\n",
       "      <td>-0.090941</td>\n",
       "      <td>-0.048265</td>\n",
       "      <td>-0.103472</td>\n",
       "      <td>-0.087390</td>\n",
       "      <td>0.537979</td>\n",
       "      <td>-0.051328</td>\n",
       "      <td>-0.084188</td>\n",
       "      <td>NaN</td>\n",
       "    </tr>\n",
       "    <tr>\n",
       "      <th>TCGA-A5-A2K4-01</th>\n",
       "      <td>-0.318605</td>\n",
       "      <td>-0.339704</td>\n",
       "      <td>-0.339534</td>\n",
       "      <td>-0.305245</td>\n",
       "      <td>2.101402</td>\n",
       "      <td>-0.339023</td>\n",
       "      <td>0.685887</td>\n",
       "      <td>-0.096343</td>\n",
       "      <td>-0.113726</td>\n",
       "      <td>-0.339023</td>\n",
       "      <td>...</td>\n",
       "      <td>0.046127</td>\n",
       "      <td>-0.327945</td>\n",
       "      <td>-0.219898</td>\n",
       "      <td>0.061467</td>\n",
       "      <td>-0.309199</td>\n",
       "      <td>-0.060044</td>\n",
       "      <td>1.345587</td>\n",
       "      <td>-0.086118</td>\n",
       "      <td>-0.044024</td>\n",
       "      <td>UCEC_CN_HIGH</td>\n",
       "    </tr>\n",
       "    <tr>\n",
       "      <th>TCGA-A5-A2K5-01</th>\n",
       "      <td>-0.208864</td>\n",
       "      <td>-0.238331</td>\n",
       "      <td>-0.238331</td>\n",
       "      <td>-0.202197</td>\n",
       "      <td>0.864713</td>\n",
       "      <td>-0.236490</td>\n",
       "      <td>-0.167805</td>\n",
       "      <td>0.097833</td>\n",
       "      <td>0.090791</td>\n",
       "      <td>-0.235298</td>\n",
       "      <td>...</td>\n",
       "      <td>-0.008335</td>\n",
       "      <td>-0.235515</td>\n",
       "      <td>-0.220239</td>\n",
       "      <td>-0.100962</td>\n",
       "      <td>-0.238331</td>\n",
       "      <td>-0.186439</td>\n",
       "      <td>0.763445</td>\n",
       "      <td>-0.149280</td>\n",
       "      <td>-0.203556</td>\n",
       "      <td>UCEC_MSI</td>\n",
       "    </tr>\n",
       "    <tr>\n",
       "      <th>TCGA-A5-A2K7-01</th>\n",
       "      <td>-0.262713</td>\n",
       "      <td>-0.289056</td>\n",
       "      <td>-0.288933</td>\n",
       "      <td>-0.248272</td>\n",
       "      <td>0.617703</td>\n",
       "      <td>-0.284237</td>\n",
       "      <td>0.157034</td>\n",
       "      <td>0.105876</td>\n",
       "      <td>-0.016337</td>\n",
       "      <td>-0.272992</td>\n",
       "      <td>...</td>\n",
       "      <td>0.216843</td>\n",
       "      <td>-0.284113</td>\n",
       "      <td>-0.226900</td>\n",
       "      <td>-0.045375</td>\n",
       "      <td>-0.288562</td>\n",
       "      <td>-0.131009</td>\n",
       "      <td>1.448719</td>\n",
       "      <td>-0.125201</td>\n",
       "      <td>-0.175000</td>\n",
       "      <td>UCEC_MSI</td>\n",
       "    </tr>\n",
       "    <tr>\n",
       "      <th>TCGA-A5-A3LO-01</th>\n",
       "      <td>-0.343143</td>\n",
       "      <td>-0.346997</td>\n",
       "      <td>-0.347105</td>\n",
       "      <td>-0.323975</td>\n",
       "      <td>0.996733</td>\n",
       "      <td>-0.340979</td>\n",
       "      <td>0.156481</td>\n",
       "      <td>-0.029435</td>\n",
       "      <td>0.582155</td>\n",
       "      <td>-0.347105</td>\n",
       "      <td>...</td>\n",
       "      <td>0.425683</td>\n",
       "      <td>-0.338830</td>\n",
       "      <td>-0.265323</td>\n",
       "      <td>-0.072206</td>\n",
       "      <td>-0.340335</td>\n",
       "      <td>-0.163445</td>\n",
       "      <td>0.334232</td>\n",
       "      <td>-0.118202</td>\n",
       "      <td>-0.087574</td>\n",
       "      <td>UCEC_MSI</td>\n",
       "    </tr>\n",
       "    <tr>\n",
       "      <th>TCGA-A5-A3LP-01</th>\n",
       "      <td>-0.136649</td>\n",
       "      <td>-0.210631</td>\n",
       "      <td>-0.208724</td>\n",
       "      <td>-0.196543</td>\n",
       "      <td>0.987911</td>\n",
       "      <td>-0.206499</td>\n",
       "      <td>-0.099056</td>\n",
       "      <td>-0.137599</td>\n",
       "      <td>-0.085149</td>\n",
       "      <td>-0.210234</td>\n",
       "      <td>...</td>\n",
       "      <td>-0.063772</td>\n",
       "      <td>-0.202446</td>\n",
       "      <td>-0.136169</td>\n",
       "      <td>-0.011719</td>\n",
       "      <td>-0.163347</td>\n",
       "      <td>0.016254</td>\n",
       "      <td>0.553545</td>\n",
       "      <td>0.084756</td>\n",
       "      <td>0.061392</td>\n",
       "      <td>NaN</td>\n",
       "    </tr>\n",
       "    <tr>\n",
       "      <th>TCGA-A5-A7WJ-01</th>\n",
       "      <td>-0.356773</td>\n",
       "      <td>-0.367850</td>\n",
       "      <td>-0.368903</td>\n",
       "      <td>-0.318517</td>\n",
       "      <td>0.965140</td>\n",
       "      <td>-0.348575</td>\n",
       "      <td>-0.106849</td>\n",
       "      <td>0.007429</td>\n",
       "      <td>0.192176</td>\n",
       "      <td>-0.368587</td>\n",
       "      <td>...</td>\n",
       "      <td>0.642554</td>\n",
       "      <td>-0.350787</td>\n",
       "      <td>-0.249884</td>\n",
       "      <td>-0.012582</td>\n",
       "      <td>-0.368166</td>\n",
       "      <td>-0.150771</td>\n",
       "      <td>0.648031</td>\n",
       "      <td>0.091589</td>\n",
       "      <td>-0.040177</td>\n",
       "      <td>UCEC_CN_LOW</td>\n",
       "    </tr>\n",
       "    <tr>\n",
       "      <th>TCGA-A5-A7WK-01</th>\n",
       "      <td>-0.279642</td>\n",
       "      <td>-0.284635</td>\n",
       "      <td>-0.284713</td>\n",
       "      <td>-0.247268</td>\n",
       "      <td>1.024805</td>\n",
       "      <td>-0.269802</td>\n",
       "      <td>-0.061526</td>\n",
       "      <td>-0.016483</td>\n",
       "      <td>-0.048958</td>\n",
       "      <td>-0.284635</td>\n",
       "      <td>...</td>\n",
       "      <td>-0.124602</td>\n",
       "      <td>-0.277453</td>\n",
       "      <td>-0.229131</td>\n",
       "      <td>0.002018</td>\n",
       "      <td>-0.234283</td>\n",
       "      <td>-0.091503</td>\n",
       "      <td>1.082041</td>\n",
       "      <td>-0.088537</td>\n",
       "      <td>-0.059497</td>\n",
       "      <td>NaN</td>\n",
       "    </tr>\n",
       "    <tr>\n",
       "      <th>TCGA-A5-AB3J-01</th>\n",
       "      <td>-0.310257</td>\n",
       "      <td>-0.332826</td>\n",
       "      <td>-0.332304</td>\n",
       "      <td>-0.295589</td>\n",
       "      <td>6.521519</td>\n",
       "      <td>-0.314416</td>\n",
       "      <td>0.165291</td>\n",
       "      <td>-0.052105</td>\n",
       "      <td>0.141919</td>\n",
       "      <td>-0.332826</td>\n",
       "      <td>...</td>\n",
       "      <td>-0.219623</td>\n",
       "      <td>-0.316766</td>\n",
       "      <td>-0.233855</td>\n",
       "      <td>-0.010976</td>\n",
       "      <td>-0.330867</td>\n",
       "      <td>-0.078741</td>\n",
       "      <td>1.574118</td>\n",
       "      <td>-0.004579</td>\n",
       "      <td>-0.084486</td>\n",
       "      <td>UCEC_MSI</td>\n",
       "    </tr>\n",
       "    <tr>\n",
       "      <th>TCGA-AJ-A23N-01</th>\n",
       "      <td>-0.268004</td>\n",
       "      <td>-0.282311</td>\n",
       "      <td>-0.281852</td>\n",
       "      <td>-0.259014</td>\n",
       "      <td>0.898789</td>\n",
       "      <td>-0.282219</td>\n",
       "      <td>-0.176679</td>\n",
       "      <td>-0.051868</td>\n",
       "      <td>-0.105647</td>\n",
       "      <td>-0.260285</td>\n",
       "      <td>...</td>\n",
       "      <td>0.106900</td>\n",
       "      <td>-0.270013</td>\n",
       "      <td>-0.187692</td>\n",
       "      <td>0.014210</td>\n",
       "      <td>-0.281760</td>\n",
       "      <td>-0.136758</td>\n",
       "      <td>1.282608</td>\n",
       "      <td>-0.081327</td>\n",
       "      <td>-0.079124</td>\n",
       "      <td>UCEC_MSI</td>\n",
       "    </tr>\n",
       "    <tr>\n",
       "      <th>TCGA-AJ-A2QM-01</th>\n",
       "      <td>-0.182877</td>\n",
       "      <td>-0.354883</td>\n",
       "      <td>-0.339428</td>\n",
       "      <td>-0.344512</td>\n",
       "      <td>0.689708</td>\n",
       "      <td>-0.186460</td>\n",
       "      <td>-0.044689</td>\n",
       "      <td>0.028011</td>\n",
       "      <td>-0.134419</td>\n",
       "      <td>-0.354883</td>\n",
       "      <td>...</td>\n",
       "      <td>0.560876</td>\n",
       "      <td>-0.336590</td>\n",
       "      <td>-0.224939</td>\n",
       "      <td>0.113166</td>\n",
       "      <td>-0.257267</td>\n",
       "      <td>0.010822</td>\n",
       "      <td>1.196718</td>\n",
       "      <td>0.109068</td>\n",
       "      <td>-0.029076</td>\n",
       "      <td>UCEC_CN_HIGH</td>\n",
       "    </tr>\n",
       "    <tr>\n",
       "      <th>TCGA-AJ-A2QO-01</th>\n",
       "      <td>-0.258154</td>\n",
       "      <td>-0.267692</td>\n",
       "      <td>-0.267513</td>\n",
       "      <td>-0.237056</td>\n",
       "      <td>0.800007</td>\n",
       "      <td>-0.203463</td>\n",
       "      <td>0.268982</td>\n",
       "      <td>-0.147027</td>\n",
       "      <td>-0.082798</td>\n",
       "      <td>-0.267513</td>\n",
       "      <td>...</td>\n",
       "      <td>0.003468</td>\n",
       "      <td>-0.261152</td>\n",
       "      <td>-0.197640</td>\n",
       "      <td>-0.072945</td>\n",
       "      <td>-0.267154</td>\n",
       "      <td>-0.161450</td>\n",
       "      <td>0.205291</td>\n",
       "      <td>-0.040785</td>\n",
       "      <td>-0.149267</td>\n",
       "      <td>UCEC_CN_LOW</td>\n",
       "    </tr>\n",
       "    <tr>\n",
       "      <th>TCGA-AJ-A3BD-01</th>\n",
       "      <td>-0.187134</td>\n",
       "      <td>-0.285757</td>\n",
       "      <td>-0.285908</td>\n",
       "      <td>-0.248525</td>\n",
       "      <td>1.046980</td>\n",
       "      <td>-0.281538</td>\n",
       "      <td>0.057486</td>\n",
       "      <td>0.103595</td>\n",
       "      <td>-0.054317</td>\n",
       "      <td>-0.285607</td>\n",
       "      <td>...</td>\n",
       "      <td>0.082498</td>\n",
       "      <td>-0.283045</td>\n",
       "      <td>-0.248088</td>\n",
       "      <td>0.014393</td>\n",
       "      <td>-0.276415</td>\n",
       "      <td>-0.164010</td>\n",
       "      <td>1.176720</td>\n",
       "      <td>-0.143819</td>\n",
       "      <td>-0.179228</td>\n",
       "      <td>UCEC_CN_HIGH</td>\n",
       "    </tr>\n",
       "    <tr>\n",
       "      <th>TCGA-AJ-A3BF-01</th>\n",
       "      <td>-0.292098</td>\n",
       "      <td>-0.305952</td>\n",
       "      <td>-0.305952</td>\n",
       "      <td>-0.285376</td>\n",
       "      <td>1.036490</td>\n",
       "      <td>-0.298194</td>\n",
       "      <td>-0.260788</td>\n",
       "      <td>0.280211</td>\n",
       "      <td>-0.166165</td>\n",
       "      <td>-0.292513</td>\n",
       "      <td>...</td>\n",
       "      <td>0.036379</td>\n",
       "      <td>-0.296670</td>\n",
       "      <td>-0.245964</td>\n",
       "      <td>0.110221</td>\n",
       "      <td>-0.303874</td>\n",
       "      <td>-0.104792</td>\n",
       "      <td>0.713008</td>\n",
       "      <td>-0.120447</td>\n",
       "      <td>-0.096064</td>\n",
       "      <td>UCEC_POLE</td>\n",
       "    </tr>\n",
       "    <tr>\n",
       "      <th>TCGA-AJ-A3BG-01</th>\n",
       "      <td>-0.196774</td>\n",
       "      <td>-0.197482</td>\n",
       "      <td>-0.197128</td>\n",
       "      <td>-0.168763</td>\n",
       "      <td>0.464346</td>\n",
       "      <td>-0.196068</td>\n",
       "      <td>-0.187492</td>\n",
       "      <td>0.003119</td>\n",
       "      <td>0.252256</td>\n",
       "      <td>-0.197482</td>\n",
       "      <td>...</td>\n",
       "      <td>0.034769</td>\n",
       "      <td>-0.192178</td>\n",
       "      <td>-0.169014</td>\n",
       "      <td>-0.089357</td>\n",
       "      <td>-0.197305</td>\n",
       "      <td>-0.150802</td>\n",
       "      <td>0.248278</td>\n",
       "      <td>-0.049662</td>\n",
       "      <td>-0.084318</td>\n",
       "      <td>UCEC_CN_LOW</td>\n",
       "    </tr>\n",
       "    <tr>\n",
       "      <th>TCGA-AJ-A3BH-01</th>\n",
       "      <td>-0.298692</td>\n",
       "      <td>-0.307048</td>\n",
       "      <td>-0.306887</td>\n",
       "      <td>-0.279080</td>\n",
       "      <td>1.328289</td>\n",
       "      <td>-0.307048</td>\n",
       "      <td>0.412844</td>\n",
       "      <td>-0.087224</td>\n",
       "      <td>-0.139448</td>\n",
       "      <td>-0.306887</td>\n",
       "      <td>...</td>\n",
       "      <td>-0.057335</td>\n",
       "      <td>-0.292425</td>\n",
       "      <td>-0.205813</td>\n",
       "      <td>-0.012342</td>\n",
       "      <td>-0.306566</td>\n",
       "      <td>-0.127075</td>\n",
       "      <td>3.251453</td>\n",
       "      <td>0.018351</td>\n",
       "      <td>0.001155</td>\n",
       "      <td>NaN</td>\n",
       "    </tr>\n",
       "    <tr>\n",
       "      <th>TCGA-AJ-A3BI-01</th>\n",
       "      <td>-0.147801</td>\n",
       "      <td>-0.170717</td>\n",
       "      <td>-0.170717</td>\n",
       "      <td>-0.164802</td>\n",
       "      <td>0.693327</td>\n",
       "      <td>-0.170717</td>\n",
       "      <td>-0.074857</td>\n",
       "      <td>-0.014711</td>\n",
       "      <td>-0.062057</td>\n",
       "      <td>-0.170717</td>\n",
       "      <td>...</td>\n",
       "      <td>-0.093712</td>\n",
       "      <td>-0.169203</td>\n",
       "      <td>-0.154821</td>\n",
       "      <td>-0.139956</td>\n",
       "      <td>-0.149866</td>\n",
       "      <td>-0.142571</td>\n",
       "      <td>0.372376</td>\n",
       "      <td>-0.140438</td>\n",
       "      <td>-0.138855</td>\n",
       "      <td>UCEC_CN_LOW</td>\n",
       "    </tr>\n",
       "    <tr>\n",
       "      <th>TCGA-AJ-A3BK-01</th>\n",
       "      <td>-0.230154</td>\n",
       "      <td>-0.245066</td>\n",
       "      <td>-0.245066</td>\n",
       "      <td>-0.229895</td>\n",
       "      <td>1.288420</td>\n",
       "      <td>-0.237975</td>\n",
       "      <td>0.509911</td>\n",
       "      <td>-0.072098</td>\n",
       "      <td>0.000358</td>\n",
       "      <td>-0.245066</td>\n",
       "      <td>...</td>\n",
       "      <td>0.011767</td>\n",
       "      <td>-0.242908</td>\n",
       "      <td>-0.223895</td>\n",
       "      <td>-0.117627</td>\n",
       "      <td>-0.244244</td>\n",
       "      <td>-0.187719</td>\n",
       "      <td>0.793465</td>\n",
       "      <td>-0.122868</td>\n",
       "      <td>-0.179394</td>\n",
       "      <td>UCEC_CN_LOW</td>\n",
       "    </tr>\n",
       "    <tr>\n",
       "      <th>TCGA-AJ-A3EJ-01</th>\n",
       "      <td>-0.282571</td>\n",
       "      <td>-0.296010</td>\n",
       "      <td>-0.296010</td>\n",
       "      <td>-0.270991</td>\n",
       "      <td>9.498495</td>\n",
       "      <td>-0.292444</td>\n",
       "      <td>-0.184862</td>\n",
       "      <td>-0.048008</td>\n",
       "      <td>-0.083225</td>\n",
       "      <td>-0.293038</td>\n",
       "      <td>...</td>\n",
       "      <td>0.028814</td>\n",
       "      <td>-0.282637</td>\n",
       "      <td>-0.200316</td>\n",
       "      <td>0.033422</td>\n",
       "      <td>-0.287540</td>\n",
       "      <td>-0.107000</td>\n",
       "      <td>1.099871</td>\n",
       "      <td>-0.116658</td>\n",
       "      <td>-0.096747</td>\n",
       "      <td>UCEC_MSI</td>\n",
       "    </tr>\n",
       "    <tr>\n",
       "      <th>TCGA-AJ-A3EK-01</th>\n",
       "      <td>-0.293416</td>\n",
       "      <td>-0.302065</td>\n",
       "      <td>-0.301812</td>\n",
       "      <td>-0.283262</td>\n",
       "      <td>1.783876</td>\n",
       "      <td>-0.300168</td>\n",
       "      <td>-0.252120</td>\n",
       "      <td>-0.012888</td>\n",
       "      <td>0.082577</td>\n",
       "      <td>-0.301939</td>\n",
       "      <td>...</td>\n",
       "      <td>0.424102</td>\n",
       "      <td>-0.294099</td>\n",
       "      <td>-0.195473</td>\n",
       "      <td>-0.080030</td>\n",
       "      <td>-0.298272</td>\n",
       "      <td>-0.063086</td>\n",
       "      <td>0.800019</td>\n",
       "      <td>0.007217</td>\n",
       "      <td>-0.093559</td>\n",
       "      <td>UCEC_CN_LOW</td>\n",
       "    </tr>\n",
       "    <tr>\n",
       "      <th>TCGA-AJ-A3EL-01</th>\n",
       "      <td>-0.275154</td>\n",
       "      <td>-0.289954</td>\n",
       "      <td>-0.289604</td>\n",
       "      <td>-0.224427</td>\n",
       "      <td>1.440464</td>\n",
       "      <td>-0.289954</td>\n",
       "      <td>-0.091610</td>\n",
       "      <td>0.081446</td>\n",
       "      <td>-0.161881</td>\n",
       "      <td>-0.288905</td>\n",
       "      <td>...</td>\n",
       "      <td>0.263591</td>\n",
       "      <td>-0.285875</td>\n",
       "      <td>-0.249050</td>\n",
       "      <td>-0.023320</td>\n",
       "      <td>-0.264083</td>\n",
       "      <td>-0.129484</td>\n",
       "      <td>1.291901</td>\n",
       "      <td>-0.173884</td>\n",
       "      <td>-0.168058</td>\n",
       "      <td>UCEC_CN_HIGH</td>\n",
       "    </tr>\n",
       "    <tr>\n",
       "      <th>TCGA-AJ-A3EM-01</th>\n",
       "      <td>-0.304309</td>\n",
       "      <td>-0.330836</td>\n",
       "      <td>-0.330836</td>\n",
       "      <td>-0.314709</td>\n",
       "      <td>0.918911</td>\n",
       "      <td>-0.329530</td>\n",
       "      <td>-0.239431</td>\n",
       "      <td>0.426638</td>\n",
       "      <td>0.146012</td>\n",
       "      <td>-0.330836</td>\n",
       "      <td>...</td>\n",
       "      <td>0.840570</td>\n",
       "      <td>-0.324307</td>\n",
       "      <td>-0.241211</td>\n",
       "      <td>0.010211</td>\n",
       "      <td>-0.136630</td>\n",
       "      <td>-0.121198</td>\n",
       "      <td>2.063616</td>\n",
       "      <td>-0.006170</td>\n",
       "      <td>-0.153843</td>\n",
       "      <td>UCEC_CN_LOW</td>\n",
       "    </tr>\n",
       "    <tr>\n",
       "      <th>TCGA-AJ-A3I9-01</th>\n",
       "      <td>-0.310654</td>\n",
       "      <td>-0.316877</td>\n",
       "      <td>-0.316877</td>\n",
       "      <td>-0.306501</td>\n",
       "      <td>0.467868</td>\n",
       "      <td>-0.311711</td>\n",
       "      <td>-0.265687</td>\n",
       "      <td>0.116245</td>\n",
       "      <td>-0.033804</td>\n",
       "      <td>-0.316877</td>\n",
       "      <td>...</td>\n",
       "      <td>0.142544</td>\n",
       "      <td>-0.309011</td>\n",
       "      <td>-0.221776</td>\n",
       "      <td>-0.049537</td>\n",
       "      <td>-0.248662</td>\n",
       "      <td>-0.176338</td>\n",
       "      <td>0.145245</td>\n",
       "      <td>-0.237391</td>\n",
       "      <td>-0.108359</td>\n",
       "      <td>UCEC_CN_LOW</td>\n",
       "    </tr>\n",
       "    <tr>\n",
       "      <th>TCGA-AJ-A3IA-01</th>\n",
       "      <td>-0.232853</td>\n",
       "      <td>-0.352232</td>\n",
       "      <td>-0.352349</td>\n",
       "      <td>-0.300772</td>\n",
       "      <td>3.018758</td>\n",
       "      <td>-0.330601</td>\n",
       "      <td>-0.208878</td>\n",
       "      <td>-0.094289</td>\n",
       "      <td>-0.158716</td>\n",
       "      <td>-0.352232</td>\n",
       "      <td>...</td>\n",
       "      <td>-0.143165</td>\n",
       "      <td>-0.344398</td>\n",
       "      <td>-0.281140</td>\n",
       "      <td>0.079349</td>\n",
       "      <td>-0.326274</td>\n",
       "      <td>-0.032901</td>\n",
       "      <td>2.013811</td>\n",
       "      <td>0.191135</td>\n",
       "      <td>-0.147374</td>\n",
       "      <td>UCEC_CN_LOW</td>\n",
       "    </tr>\n",
       "    <tr>\n",
       "      <th>...</th>\n",
       "      <td>...</td>\n",
       "      <td>...</td>\n",
       "      <td>...</td>\n",
       "      <td>...</td>\n",
       "      <td>...</td>\n",
       "      <td>...</td>\n",
       "      <td>...</td>\n",
       "      <td>...</td>\n",
       "      <td>...</td>\n",
       "      <td>...</td>\n",
       "      <td>...</td>\n",
       "      <td>...</td>\n",
       "      <td>...</td>\n",
       "      <td>...</td>\n",
       "      <td>...</td>\n",
       "      <td>...</td>\n",
       "      <td>...</td>\n",
       "      <td>...</td>\n",
       "      <td>...</td>\n",
       "      <td>...</td>\n",
       "      <td>...</td>\n",
       "    </tr>\n",
       "    <tr>\n",
       "      <th>TCGA-EY-A1GF-01</th>\n",
       "      <td>-0.334989</td>\n",
       "      <td>-0.353195</td>\n",
       "      <td>-0.353335</td>\n",
       "      <td>-0.314666</td>\n",
       "      <td>1.001547</td>\n",
       "      <td>-0.351910</td>\n",
       "      <td>-0.187331</td>\n",
       "      <td>-0.105994</td>\n",
       "      <td>0.187786</td>\n",
       "      <td>-0.353290</td>\n",
       "      <td>...</td>\n",
       "      <td>-0.014378</td>\n",
       "      <td>-0.332812</td>\n",
       "      <td>-0.161988</td>\n",
       "      <td>-0.011951</td>\n",
       "      <td>-0.350997</td>\n",
       "      <td>0.039177</td>\n",
       "      <td>0.401718</td>\n",
       "      <td>-0.070874</td>\n",
       "      <td>0.014796</td>\n",
       "      <td>UCEC_MSI</td>\n",
       "    </tr>\n",
       "    <tr>\n",
       "      <th>TCGA-EY-A1GH-01</th>\n",
       "      <td>-0.355869</td>\n",
       "      <td>-0.360015</td>\n",
       "      <td>-0.360158</td>\n",
       "      <td>-0.325536</td>\n",
       "      <td>1.366229</td>\n",
       "      <td>-0.356314</td>\n",
       "      <td>0.003285</td>\n",
       "      <td>-0.159747</td>\n",
       "      <td>-0.063053</td>\n",
       "      <td>-0.355491</td>\n",
       "      <td>...</td>\n",
       "      <td>0.300738</td>\n",
       "      <td>-0.352099</td>\n",
       "      <td>-0.229123</td>\n",
       "      <td>-0.114304</td>\n",
       "      <td>-0.358856</td>\n",
       "      <td>-0.016574</td>\n",
       "      <td>0.890990</td>\n",
       "      <td>-0.120580</td>\n",
       "      <td>-0.020369</td>\n",
       "      <td>UCEC_CN_HIGH</td>\n",
       "    </tr>\n",
       "    <tr>\n",
       "      <th>TCGA-EY-A1GI-01</th>\n",
       "      <td>-0.357138</td>\n",
       "      <td>-0.361385</td>\n",
       "      <td>-0.361281</td>\n",
       "      <td>-0.317736</td>\n",
       "      <td>5.420178</td>\n",
       "      <td>-0.361281</td>\n",
       "      <td>-0.125464</td>\n",
       "      <td>-0.117145</td>\n",
       "      <td>0.012113</td>\n",
       "      <td>-0.361193</td>\n",
       "      <td>...</td>\n",
       "      <td>0.169499</td>\n",
       "      <td>-0.345886</td>\n",
       "      <td>-0.097045</td>\n",
       "      <td>-0.049943</td>\n",
       "      <td>-0.358638</td>\n",
       "      <td>0.208604</td>\n",
       "      <td>0.370990</td>\n",
       "      <td>-0.040982</td>\n",
       "      <td>0.052233</td>\n",
       "      <td>UCEC_CN_HIGH</td>\n",
       "    </tr>\n",
       "    <tr>\n",
       "      <th>TCGA-EY-A1GK-01</th>\n",
       "      <td>-0.322558</td>\n",
       "      <td>-0.335185</td>\n",
       "      <td>-0.335104</td>\n",
       "      <td>-0.298158</td>\n",
       "      <td>2.830282</td>\n",
       "      <td>-0.329452</td>\n",
       "      <td>-0.221847</td>\n",
       "      <td>-0.031238</td>\n",
       "      <td>0.191705</td>\n",
       "      <td>-0.335029</td>\n",
       "      <td>...</td>\n",
       "      <td>0.006374</td>\n",
       "      <td>-0.327072</td>\n",
       "      <td>-0.218171</td>\n",
       "      <td>-0.101293</td>\n",
       "      <td>-0.328193</td>\n",
       "      <td>-0.092669</td>\n",
       "      <td>1.107613</td>\n",
       "      <td>-0.002211</td>\n",
       "      <td>-0.111465</td>\n",
       "      <td>UCEC_CN_HIGH</td>\n",
       "    </tr>\n",
       "    <tr>\n",
       "      <th>TCGA-EY-A1GM-01</th>\n",
       "      <td>-0.193608</td>\n",
       "      <td>-0.259486</td>\n",
       "      <td>-0.259153</td>\n",
       "      <td>-0.248042</td>\n",
       "      <td>0.192755</td>\n",
       "      <td>-0.231346</td>\n",
       "      <td>-0.059392</td>\n",
       "      <td>0.039198</td>\n",
       "      <td>-0.120982</td>\n",
       "      <td>-0.259052</td>\n",
       "      <td>...</td>\n",
       "      <td>-0.092825</td>\n",
       "      <td>-0.250905</td>\n",
       "      <td>-0.125588</td>\n",
       "      <td>0.220499</td>\n",
       "      <td>-0.257779</td>\n",
       "      <td>-0.046123</td>\n",
       "      <td>0.500736</td>\n",
       "      <td>-0.070652</td>\n",
       "      <td>-0.071152</td>\n",
       "      <td>UCEC_CN_HIGH</td>\n",
       "    </tr>\n",
       "    <tr>\n",
       "      <th>TCGA-EY-A1GQ-01</th>\n",
       "      <td>-0.344508</td>\n",
       "      <td>-0.358749</td>\n",
       "      <td>-0.358889</td>\n",
       "      <td>-0.307857</td>\n",
       "      <td>5.993893</td>\n",
       "      <td>-0.338535</td>\n",
       "      <td>-0.076433</td>\n",
       "      <td>0.011458</td>\n",
       "      <td>-0.184465</td>\n",
       "      <td>-0.358290</td>\n",
       "      <td>...</td>\n",
       "      <td>0.402604</td>\n",
       "      <td>-0.354850</td>\n",
       "      <td>-0.299638</td>\n",
       "      <td>0.086894</td>\n",
       "      <td>-0.334896</td>\n",
       "      <td>-0.031646</td>\n",
       "      <td>1.703490</td>\n",
       "      <td>-0.035307</td>\n",
       "      <td>-0.162789</td>\n",
       "      <td>UCEC_CN_HIGH</td>\n",
       "    </tr>\n",
       "    <tr>\n",
       "      <th>TCGA-EY-A1GR-01</th>\n",
       "      <td>-0.240882</td>\n",
       "      <td>-0.298902</td>\n",
       "      <td>-0.299006</td>\n",
       "      <td>-0.272581</td>\n",
       "      <td>0.875424</td>\n",
       "      <td>-0.298736</td>\n",
       "      <td>0.129579</td>\n",
       "      <td>0.012937</td>\n",
       "      <td>-0.116656</td>\n",
       "      <td>-0.298813</td>\n",
       "      <td>...</td>\n",
       "      <td>-0.009540</td>\n",
       "      <td>-0.293765</td>\n",
       "      <td>-0.225531</td>\n",
       "      <td>-0.023884</td>\n",
       "      <td>-0.278911</td>\n",
       "      <td>-0.064802</td>\n",
       "      <td>0.473835</td>\n",
       "      <td>-0.161306</td>\n",
       "      <td>-0.140024</td>\n",
       "      <td>UCEC_CN_HIGH</td>\n",
       "    </tr>\n",
       "    <tr>\n",
       "      <th>TCGA-EY-A1GS-01</th>\n",
       "      <td>-0.251006</td>\n",
       "      <td>-0.308850</td>\n",
       "      <td>-0.309890</td>\n",
       "      <td>-0.281978</td>\n",
       "      <td>0.882618</td>\n",
       "      <td>-0.309322</td>\n",
       "      <td>0.794212</td>\n",
       "      <td>-0.102325</td>\n",
       "      <td>-0.140047</td>\n",
       "      <td>-0.307228</td>\n",
       "      <td>...</td>\n",
       "      <td>-0.044998</td>\n",
       "      <td>-0.304072</td>\n",
       "      <td>-0.221256</td>\n",
       "      <td>0.107315</td>\n",
       "      <td>-0.307618</td>\n",
       "      <td>0.002669</td>\n",
       "      <td>0.587559</td>\n",
       "      <td>-0.117334</td>\n",
       "      <td>-0.202780</td>\n",
       "      <td>UCEC_CN_HIGH</td>\n",
       "    </tr>\n",
       "    <tr>\n",
       "      <th>TCGA-EY-A1GT-01</th>\n",
       "      <td>-0.299177</td>\n",
       "      <td>-0.332145</td>\n",
       "      <td>-0.332115</td>\n",
       "      <td>-0.287459</td>\n",
       "      <td>6.256126</td>\n",
       "      <td>-0.330088</td>\n",
       "      <td>0.610852</td>\n",
       "      <td>-0.097569</td>\n",
       "      <td>-0.165481</td>\n",
       "      <td>-0.332230</td>\n",
       "      <td>...</td>\n",
       "      <td>-0.106435</td>\n",
       "      <td>-0.322818</td>\n",
       "      <td>-0.219634</td>\n",
       "      <td>-0.033842</td>\n",
       "      <td>-0.300215</td>\n",
       "      <td>0.073224</td>\n",
       "      <td>2.051255</td>\n",
       "      <td>-0.005863</td>\n",
       "      <td>-0.114593</td>\n",
       "      <td>UCEC_CN_HIGH</td>\n",
       "    </tr>\n",
       "    <tr>\n",
       "      <th>TCGA-EY-A1GU-01</th>\n",
       "      <td>-0.270738</td>\n",
       "      <td>-0.279654</td>\n",
       "      <td>-0.279759</td>\n",
       "      <td>-0.255749</td>\n",
       "      <td>0.722533</td>\n",
       "      <td>-0.269944</td>\n",
       "      <td>0.112371</td>\n",
       "      <td>-0.074151</td>\n",
       "      <td>-0.076978</td>\n",
       "      <td>-0.279726</td>\n",
       "      <td>...</td>\n",
       "      <td>-0.167301</td>\n",
       "      <td>-0.265525</td>\n",
       "      <td>-0.151913</td>\n",
       "      <td>0.134871</td>\n",
       "      <td>-0.279549</td>\n",
       "      <td>-0.014091</td>\n",
       "      <td>0.962617</td>\n",
       "      <td>0.094334</td>\n",
       "      <td>-0.041575</td>\n",
       "      <td>UCEC_CN_LOW</td>\n",
       "    </tr>\n",
       "    <tr>\n",
       "      <th>TCGA-EY-A1GV-01</th>\n",
       "      <td>-0.172158</td>\n",
       "      <td>-0.317759</td>\n",
       "      <td>-0.317870</td>\n",
       "      <td>-0.306267</td>\n",
       "      <td>0.272431</td>\n",
       "      <td>-0.316024</td>\n",
       "      <td>0.330513</td>\n",
       "      <td>-0.061776</td>\n",
       "      <td>-0.021297</td>\n",
       "      <td>-0.317835</td>\n",
       "      <td>...</td>\n",
       "      <td>-0.221531</td>\n",
       "      <td>-0.311654</td>\n",
       "      <td>-0.224174</td>\n",
       "      <td>0.082859</td>\n",
       "      <td>-0.306576</td>\n",
       "      <td>-0.042596</td>\n",
       "      <td>2.094723</td>\n",
       "      <td>-0.138282</td>\n",
       "      <td>-0.077947</td>\n",
       "      <td>UCEC_CN_HIGH</td>\n",
       "    </tr>\n",
       "    <tr>\n",
       "      <th>TCGA-EY-A1GW-01</th>\n",
       "      <td>-0.258827</td>\n",
       "      <td>-0.276910</td>\n",
       "      <td>-0.277006</td>\n",
       "      <td>-0.271096</td>\n",
       "      <td>3.574153</td>\n",
       "      <td>-0.269778</td>\n",
       "      <td>-0.054032</td>\n",
       "      <td>-0.049049</td>\n",
       "      <td>0.178450</td>\n",
       "      <td>-0.276976</td>\n",
       "      <td>...</td>\n",
       "      <td>-0.175270</td>\n",
       "      <td>-0.273105</td>\n",
       "      <td>-0.234919</td>\n",
       "      <td>-0.040616</td>\n",
       "      <td>-0.256045</td>\n",
       "      <td>-0.115064</td>\n",
       "      <td>0.285912</td>\n",
       "      <td>-0.136865</td>\n",
       "      <td>-0.103309</td>\n",
       "      <td>UCEC_CN_HIGH</td>\n",
       "    </tr>\n",
       "    <tr>\n",
       "      <th>TCGA-EY-A1H0-01</th>\n",
       "      <td>-0.308740</td>\n",
       "      <td>-0.315067</td>\n",
       "      <td>-0.315188</td>\n",
       "      <td>-0.281326</td>\n",
       "      <td>0.367461</td>\n",
       "      <td>-0.314601</td>\n",
       "      <td>0.187611</td>\n",
       "      <td>0.072188</td>\n",
       "      <td>0.046844</td>\n",
       "      <td>-0.315150</td>\n",
       "      <td>...</td>\n",
       "      <td>0.000707</td>\n",
       "      <td>-0.314396</td>\n",
       "      <td>-0.264081</td>\n",
       "      <td>-0.126291</td>\n",
       "      <td>-0.308040</td>\n",
       "      <td>-0.177020</td>\n",
       "      <td>1.124164</td>\n",
       "      <td>-0.087947</td>\n",
       "      <td>-0.175251</td>\n",
       "      <td>UCEC_CN_HIGH</td>\n",
       "    </tr>\n",
       "    <tr>\n",
       "      <th>TCGA-EY-A212-01</th>\n",
       "      <td>-0.271458</td>\n",
       "      <td>-0.354060</td>\n",
       "      <td>-0.354316</td>\n",
       "      <td>-0.331717</td>\n",
       "      <td>0.765643</td>\n",
       "      <td>-0.352390</td>\n",
       "      <td>0.048259</td>\n",
       "      <td>-0.062104</td>\n",
       "      <td>-0.134308</td>\n",
       "      <td>-0.300896</td>\n",
       "      <td>...</td>\n",
       "      <td>0.056670</td>\n",
       "      <td>-0.330725</td>\n",
       "      <td>-0.152281</td>\n",
       "      <td>0.082807</td>\n",
       "      <td>-0.330492</td>\n",
       "      <td>0.107599</td>\n",
       "      <td>1.099402</td>\n",
       "      <td>-0.115108</td>\n",
       "      <td>-0.002198</td>\n",
       "      <td>UCEC_CN_HIGH</td>\n",
       "    </tr>\n",
       "    <tr>\n",
       "      <th>TCGA-EY-A214-01</th>\n",
       "      <td>-0.194368</td>\n",
       "      <td>-0.287460</td>\n",
       "      <td>-0.286950</td>\n",
       "      <td>-0.271906</td>\n",
       "      <td>2.886085</td>\n",
       "      <td>-0.276123</td>\n",
       "      <td>0.450242</td>\n",
       "      <td>-0.069518</td>\n",
       "      <td>-0.080378</td>\n",
       "      <td>-0.285084</td>\n",
       "      <td>...</td>\n",
       "      <td>-0.113427</td>\n",
       "      <td>-0.278784</td>\n",
       "      <td>-0.193115</td>\n",
       "      <td>0.086450</td>\n",
       "      <td>-0.282961</td>\n",
       "      <td>-0.057707</td>\n",
       "      <td>1.418522</td>\n",
       "      <td>0.007663</td>\n",
       "      <td>-0.101000</td>\n",
       "      <td>UCEC_MSI</td>\n",
       "    </tr>\n",
       "    <tr>\n",
       "      <th>TCGA-EY-A215-01</th>\n",
       "      <td>-0.348313</td>\n",
       "      <td>-0.373271</td>\n",
       "      <td>-0.373184</td>\n",
       "      <td>-0.331788</td>\n",
       "      <td>0.278996</td>\n",
       "      <td>-0.273960</td>\n",
       "      <td>-0.253098</td>\n",
       "      <td>0.055650</td>\n",
       "      <td>0.151834</td>\n",
       "      <td>-0.371518</td>\n",
       "      <td>...</td>\n",
       "      <td>0.075899</td>\n",
       "      <td>-0.358892</td>\n",
       "      <td>-0.219259</td>\n",
       "      <td>0.037249</td>\n",
       "      <td>-0.366917</td>\n",
       "      <td>0.184683</td>\n",
       "      <td>1.254141</td>\n",
       "      <td>0.326289</td>\n",
       "      <td>0.015219</td>\n",
       "      <td>UCEC_CN_HIGH</td>\n",
       "    </tr>\n",
       "    <tr>\n",
       "      <th>TCGA-EY-A2OM-01</th>\n",
       "      <td>-0.318986</td>\n",
       "      <td>-0.324901</td>\n",
       "      <td>-0.324840</td>\n",
       "      <td>-0.308078</td>\n",
       "      <td>2.703133</td>\n",
       "      <td>-0.311699</td>\n",
       "      <td>-0.020917</td>\n",
       "      <td>-0.104206</td>\n",
       "      <td>-0.147429</td>\n",
       "      <td>-0.318468</td>\n",
       "      <td>...</td>\n",
       "      <td>-0.152342</td>\n",
       "      <td>-0.313826</td>\n",
       "      <td>-0.147147</td>\n",
       "      <td>0.018618</td>\n",
       "      <td>-0.314579</td>\n",
       "      <td>0.097109</td>\n",
       "      <td>1.048792</td>\n",
       "      <td>-0.087171</td>\n",
       "      <td>-0.069307</td>\n",
       "      <td>UCEC_CN_HIGH</td>\n",
       "    </tr>\n",
       "    <tr>\n",
       "      <th>TCGA-FI-A2CX-01</th>\n",
       "      <td>-0.165764</td>\n",
       "      <td>-0.137100</td>\n",
       "      <td>-0.190892</td>\n",
       "      <td>-0.174860</td>\n",
       "      <td>4.615240</td>\n",
       "      <td>-0.190798</td>\n",
       "      <td>-0.163432</td>\n",
       "      <td>-0.053425</td>\n",
       "      <td>-0.125545</td>\n",
       "      <td>-0.188686</td>\n",
       "      <td>...</td>\n",
       "      <td>-0.144163</td>\n",
       "      <td>-0.184417</td>\n",
       "      <td>-0.154742</td>\n",
       "      <td>-0.040768</td>\n",
       "      <td>-0.184999</td>\n",
       "      <td>-0.007801</td>\n",
       "      <td>1.186760</td>\n",
       "      <td>0.148032</td>\n",
       "      <td>-0.069296</td>\n",
       "      <td>UCEC_CN_HIGH</td>\n",
       "    </tr>\n",
       "    <tr>\n",
       "      <th>TCGA-FI-A2CY-01</th>\n",
       "      <td>-0.303129</td>\n",
       "      <td>-0.317581</td>\n",
       "      <td>-0.317404</td>\n",
       "      <td>-0.284752</td>\n",
       "      <td>1.871335</td>\n",
       "      <td>-0.315369</td>\n",
       "      <td>-0.267996</td>\n",
       "      <td>-0.054810</td>\n",
       "      <td>-0.101939</td>\n",
       "      <td>-0.316326</td>\n",
       "      <td>...</td>\n",
       "      <td>0.142601</td>\n",
       "      <td>-0.302707</td>\n",
       "      <td>-0.195613</td>\n",
       "      <td>0.275386</td>\n",
       "      <td>-0.314185</td>\n",
       "      <td>0.041397</td>\n",
       "      <td>2.048490</td>\n",
       "      <td>-0.095577</td>\n",
       "      <td>0.055372</td>\n",
       "      <td>UCEC_CN_LOW</td>\n",
       "    </tr>\n",
       "    <tr>\n",
       "      <th>TCGA-FI-A2D0-01</th>\n",
       "      <td>-0.353244</td>\n",
       "      <td>-0.372089</td>\n",
       "      <td>-0.372019</td>\n",
       "      <td>-0.348957</td>\n",
       "      <td>1.003692</td>\n",
       "      <td>-0.364731</td>\n",
       "      <td>0.281090</td>\n",
       "      <td>-0.027592</td>\n",
       "      <td>-0.181856</td>\n",
       "      <td>-0.371935</td>\n",
       "      <td>...</td>\n",
       "      <td>0.360512</td>\n",
       "      <td>-0.355877</td>\n",
       "      <td>-0.226726</td>\n",
       "      <td>0.141938</td>\n",
       "      <td>-0.371144</td>\n",
       "      <td>-0.059486</td>\n",
       "      <td>2.585521</td>\n",
       "      <td>0.044939</td>\n",
       "      <td>-0.067163</td>\n",
       "      <td>UCEC_MSI</td>\n",
       "    </tr>\n",
       "    <tr>\n",
       "      <th>TCGA-FI-A2D2-01</th>\n",
       "      <td>-0.348856</td>\n",
       "      <td>-0.360206</td>\n",
       "      <td>-0.360340</td>\n",
       "      <td>-0.340751</td>\n",
       "      <td>1.859377</td>\n",
       "      <td>-0.349253</td>\n",
       "      <td>-0.063648</td>\n",
       "      <td>-0.047325</td>\n",
       "      <td>0.000190</td>\n",
       "      <td>-0.359818</td>\n",
       "      <td>...</td>\n",
       "      <td>-0.246303</td>\n",
       "      <td>-0.336894</td>\n",
       "      <td>-0.157538</td>\n",
       "      <td>0.073988</td>\n",
       "      <td>-0.349615</td>\n",
       "      <td>0.092553</td>\n",
       "      <td>1.240800</td>\n",
       "      <td>-0.136932</td>\n",
       "      <td>0.021589</td>\n",
       "      <td>UCEC_POLE</td>\n",
       "    </tr>\n",
       "    <tr>\n",
       "      <th>TCGA-FI-A2D4-01</th>\n",
       "      <td>-0.252941</td>\n",
       "      <td>-0.265040</td>\n",
       "      <td>-0.265134</td>\n",
       "      <td>-0.230076</td>\n",
       "      <td>0.831034</td>\n",
       "      <td>-0.256496</td>\n",
       "      <td>-0.119606</td>\n",
       "      <td>0.086136</td>\n",
       "      <td>-0.031205</td>\n",
       "      <td>-0.264906</td>\n",
       "      <td>...</td>\n",
       "      <td>0.219411</td>\n",
       "      <td>-0.261872</td>\n",
       "      <td>-0.208974</td>\n",
       "      <td>-0.111956</td>\n",
       "      <td>-0.246655</td>\n",
       "      <td>-0.130065</td>\n",
       "      <td>1.228039</td>\n",
       "      <td>-0.141675</td>\n",
       "      <td>-0.139503</td>\n",
       "      <td>UCEC_CN_LOW</td>\n",
       "    </tr>\n",
       "    <tr>\n",
       "      <th>TCGA-FI-A2D5-01</th>\n",
       "      <td>-0.300565</td>\n",
       "      <td>-0.307801</td>\n",
       "      <td>-0.307915</td>\n",
       "      <td>-0.285119</td>\n",
       "      <td>1.236110</td>\n",
       "      <td>-0.279301</td>\n",
       "      <td>-0.157949</td>\n",
       "      <td>-0.084861</td>\n",
       "      <td>0.214873</td>\n",
       "      <td>-0.306156</td>\n",
       "      <td>...</td>\n",
       "      <td>0.034832</td>\n",
       "      <td>-0.290267</td>\n",
       "      <td>-0.160666</td>\n",
       "      <td>-0.013456</td>\n",
       "      <td>-0.306502</td>\n",
       "      <td>0.047343</td>\n",
       "      <td>2.184093</td>\n",
       "      <td>0.127488</td>\n",
       "      <td>-0.133156</td>\n",
       "      <td>UCEC_POLE</td>\n",
       "    </tr>\n",
       "    <tr>\n",
       "      <th>TCGA-FI-A2D6-01</th>\n",
       "      <td>-0.246543</td>\n",
       "      <td>-0.332965</td>\n",
       "      <td>-0.333095</td>\n",
       "      <td>-0.301210</td>\n",
       "      <td>0.760056</td>\n",
       "      <td>-0.332245</td>\n",
       "      <td>0.191096</td>\n",
       "      <td>0.381978</td>\n",
       "      <td>0.003538</td>\n",
       "      <td>-0.331059</td>\n",
       "      <td>...</td>\n",
       "      <td>0.404347</td>\n",
       "      <td>-0.316652</td>\n",
       "      <td>-0.154939</td>\n",
       "      <td>0.045503</td>\n",
       "      <td>-0.332510</td>\n",
       "      <td>0.091150</td>\n",
       "      <td>2.632132</td>\n",
       "      <td>0.089839</td>\n",
       "      <td>-0.078911</td>\n",
       "      <td>UCEC_MSI</td>\n",
       "    </tr>\n",
       "    <tr>\n",
       "      <th>TCGA-FI-A2EU-01</th>\n",
       "      <td>-0.239066</td>\n",
       "      <td>-0.336583</td>\n",
       "      <td>-0.336381</td>\n",
       "      <td>-0.313091</td>\n",
       "      <td>0.626711</td>\n",
       "      <td>-0.329699</td>\n",
       "      <td>-0.185604</td>\n",
       "      <td>-0.056949</td>\n",
       "      <td>-0.053924</td>\n",
       "      <td>-0.336616</td>\n",
       "      <td>...</td>\n",
       "      <td>0.007389</td>\n",
       "      <td>-0.320275</td>\n",
       "      <td>-0.173775</td>\n",
       "      <td>0.086968</td>\n",
       "      <td>-0.307924</td>\n",
       "      <td>0.078477</td>\n",
       "      <td>0.775693</td>\n",
       "      <td>0.114145</td>\n",
       "      <td>0.003737</td>\n",
       "      <td>UCEC_CN_LOW</td>\n",
       "    </tr>\n",
       "    <tr>\n",
       "      <th>TCGA-FI-A2EW-01</th>\n",
       "      <td>-0.249423</td>\n",
       "      <td>-0.305019</td>\n",
       "      <td>-0.303302</td>\n",
       "      <td>-0.282489</td>\n",
       "      <td>0.963703</td>\n",
       "      <td>-0.301692</td>\n",
       "      <td>0.337152</td>\n",
       "      <td>0.151580</td>\n",
       "      <td>-0.156549</td>\n",
       "      <td>-0.013154</td>\n",
       "      <td>...</td>\n",
       "      <td>0.381652</td>\n",
       "      <td>-0.300028</td>\n",
       "      <td>-0.255202</td>\n",
       "      <td>0.130553</td>\n",
       "      <td>-0.275084</td>\n",
       "      <td>-0.089512</td>\n",
       "      <td>0.714769</td>\n",
       "      <td>-0.022283</td>\n",
       "      <td>-0.048945</td>\n",
       "      <td>UCEC_CN_HIGH</td>\n",
       "    </tr>\n",
       "    <tr>\n",
       "      <th>TCGA-FI-A2EX-01</th>\n",
       "      <td>-0.299339</td>\n",
       "      <td>-0.337852</td>\n",
       "      <td>-0.337776</td>\n",
       "      <td>-0.301995</td>\n",
       "      <td>0.758386</td>\n",
       "      <td>-0.334125</td>\n",
       "      <td>-0.080745</td>\n",
       "      <td>0.105017</td>\n",
       "      <td>-0.159987</td>\n",
       "      <td>-0.316487</td>\n",
       "      <td>...</td>\n",
       "      <td>0.105880</td>\n",
       "      <td>-0.327828</td>\n",
       "      <td>-0.268086</td>\n",
       "      <td>0.065559</td>\n",
       "      <td>-0.312656</td>\n",
       "      <td>-0.067724</td>\n",
       "      <td>1.561657</td>\n",
       "      <td>-0.034333</td>\n",
       "      <td>-0.155402</td>\n",
       "      <td>UCEC_MSI</td>\n",
       "    </tr>\n",
       "    <tr>\n",
       "      <th>TCGA-FI-A2F4-01</th>\n",
       "      <td>-0.309047</td>\n",
       "      <td>-0.319298</td>\n",
       "      <td>-0.319419</td>\n",
       "      <td>-0.283378</td>\n",
       "      <td>1.117068</td>\n",
       "      <td>-0.213041</td>\n",
       "      <td>0.244597</td>\n",
       "      <td>-0.069202</td>\n",
       "      <td>0.114532</td>\n",
       "      <td>-0.319381</td>\n",
       "      <td>...</td>\n",
       "      <td>-0.024362</td>\n",
       "      <td>-0.298503</td>\n",
       "      <td>-0.181266</td>\n",
       "      <td>-0.039472</td>\n",
       "      <td>-0.318977</td>\n",
       "      <td>-0.065464</td>\n",
       "      <td>1.215911</td>\n",
       "      <td>0.064800</td>\n",
       "      <td>-0.107220</td>\n",
       "      <td>UCEC_CN_LOW</td>\n",
       "    </tr>\n",
       "    <tr>\n",
       "      <th>TCGA-FI-A2F8-01</th>\n",
       "      <td>-0.298242</td>\n",
       "      <td>-0.339150</td>\n",
       "      <td>-0.338378</td>\n",
       "      <td>-0.311905</td>\n",
       "      <td>3.087657</td>\n",
       "      <td>-0.331090</td>\n",
       "      <td>0.206806</td>\n",
       "      <td>0.044523</td>\n",
       "      <td>-0.113535</td>\n",
       "      <td>-0.337938</td>\n",
       "      <td>...</td>\n",
       "      <td>-0.002131</td>\n",
       "      <td>-0.331979</td>\n",
       "      <td>-0.245135</td>\n",
       "      <td>0.038606</td>\n",
       "      <td>-0.325035</td>\n",
       "      <td>-0.044264</td>\n",
       "      <td>2.333158</td>\n",
       "      <td>-0.012226</td>\n",
       "      <td>-0.099079</td>\n",
       "      <td>UCEC_CN_HIGH</td>\n",
       "    </tr>\n",
       "    <tr>\n",
       "      <th>TCGA-FI-A2F9-01</th>\n",
       "      <td>-0.265080</td>\n",
       "      <td>-0.314531</td>\n",
       "      <td>-0.314403</td>\n",
       "      <td>-0.276521</td>\n",
       "      <td>2.266315</td>\n",
       "      <td>-0.313938</td>\n",
       "      <td>-0.100439</td>\n",
       "      <td>0.055811</td>\n",
       "      <td>-0.200473</td>\n",
       "      <td>-0.296551</td>\n",
       "      <td>...</td>\n",
       "      <td>-0.098569</td>\n",
       "      <td>-0.295257</td>\n",
       "      <td>-0.138248</td>\n",
       "      <td>0.208292</td>\n",
       "      <td>-0.313216</td>\n",
       "      <td>0.104128</td>\n",
       "      <td>1.149371</td>\n",
       "      <td>-0.024364</td>\n",
       "      <td>-0.086326</td>\n",
       "      <td>UCEC_MSI</td>\n",
       "    </tr>\n",
       "  </tbody>\n",
       "</table>\n",
       "<p>527 rows × 17495 columns</p>\n",
       "</div>"
      ],
      "text/plain": [
       "                        0         1         2         3         4         5  \\\n",
       "TCGA-2E-A9G8-01 -0.265437 -0.270850 -0.270967 -0.254109  1.237661 -0.268849   \n",
       "TCGA-4E-A92E-01 -0.315839 -0.321774 -0.321365 -0.272522  3.609268 -0.298169   \n",
       "TCGA-5B-A90C-01 -0.340378 -0.343235 -0.342822 -0.318773  0.929263 -0.323613   \n",
       "TCGA-5S-A9Q8-01 -0.260477 -0.276136 -0.276136 -0.257653  0.870224 -0.269506   \n",
       "TCGA-A5-A1OH-01 -0.256232 -0.331695 -0.331026 -0.259853  1.924777 -0.329577   \n",
       "TCGA-A5-A2K2-01 -0.295557 -0.336019 -0.336019 -0.305282  0.747281 -0.334751   \n",
       "TCGA-A5-A2K3-01 -0.068665 -0.104029 -0.104098 -0.091622  0.523203 -0.104098   \n",
       "TCGA-A5-A2K4-01 -0.318605 -0.339704 -0.339534 -0.305245  2.101402 -0.339023   \n",
       "TCGA-A5-A2K5-01 -0.208864 -0.238331 -0.238331 -0.202197  0.864713 -0.236490   \n",
       "TCGA-A5-A2K7-01 -0.262713 -0.289056 -0.288933 -0.248272  0.617703 -0.284237   \n",
       "TCGA-A5-A3LO-01 -0.343143 -0.346997 -0.347105 -0.323975  0.996733 -0.340979   \n",
       "TCGA-A5-A3LP-01 -0.136649 -0.210631 -0.208724 -0.196543  0.987911 -0.206499   \n",
       "TCGA-A5-A7WJ-01 -0.356773 -0.367850 -0.368903 -0.318517  0.965140 -0.348575   \n",
       "TCGA-A5-A7WK-01 -0.279642 -0.284635 -0.284713 -0.247268  1.024805 -0.269802   \n",
       "TCGA-A5-AB3J-01 -0.310257 -0.332826 -0.332304 -0.295589  6.521519 -0.314416   \n",
       "TCGA-AJ-A23N-01 -0.268004 -0.282311 -0.281852 -0.259014  0.898789 -0.282219   \n",
       "TCGA-AJ-A2QM-01 -0.182877 -0.354883 -0.339428 -0.344512  0.689708 -0.186460   \n",
       "TCGA-AJ-A2QO-01 -0.258154 -0.267692 -0.267513 -0.237056  0.800007 -0.203463   \n",
       "TCGA-AJ-A3BD-01 -0.187134 -0.285757 -0.285908 -0.248525  1.046980 -0.281538   \n",
       "TCGA-AJ-A3BF-01 -0.292098 -0.305952 -0.305952 -0.285376  1.036490 -0.298194   \n",
       "TCGA-AJ-A3BG-01 -0.196774 -0.197482 -0.197128 -0.168763  0.464346 -0.196068   \n",
       "TCGA-AJ-A3BH-01 -0.298692 -0.307048 -0.306887 -0.279080  1.328289 -0.307048   \n",
       "TCGA-AJ-A3BI-01 -0.147801 -0.170717 -0.170717 -0.164802  0.693327 -0.170717   \n",
       "TCGA-AJ-A3BK-01 -0.230154 -0.245066 -0.245066 -0.229895  1.288420 -0.237975   \n",
       "TCGA-AJ-A3EJ-01 -0.282571 -0.296010 -0.296010 -0.270991  9.498495 -0.292444   \n",
       "TCGA-AJ-A3EK-01 -0.293416 -0.302065 -0.301812 -0.283262  1.783876 -0.300168   \n",
       "TCGA-AJ-A3EL-01 -0.275154 -0.289954 -0.289604 -0.224427  1.440464 -0.289954   \n",
       "TCGA-AJ-A3EM-01 -0.304309 -0.330836 -0.330836 -0.314709  0.918911 -0.329530   \n",
       "TCGA-AJ-A3I9-01 -0.310654 -0.316877 -0.316877 -0.306501  0.467868 -0.311711   \n",
       "TCGA-AJ-A3IA-01 -0.232853 -0.352232 -0.352349 -0.300772  3.018758 -0.330601   \n",
       "...                   ...       ...       ...       ...       ...       ...   \n",
       "TCGA-EY-A1GF-01 -0.334989 -0.353195 -0.353335 -0.314666  1.001547 -0.351910   \n",
       "TCGA-EY-A1GH-01 -0.355869 -0.360015 -0.360158 -0.325536  1.366229 -0.356314   \n",
       "TCGA-EY-A1GI-01 -0.357138 -0.361385 -0.361281 -0.317736  5.420178 -0.361281   \n",
       "TCGA-EY-A1GK-01 -0.322558 -0.335185 -0.335104 -0.298158  2.830282 -0.329452   \n",
       "TCGA-EY-A1GM-01 -0.193608 -0.259486 -0.259153 -0.248042  0.192755 -0.231346   \n",
       "TCGA-EY-A1GQ-01 -0.344508 -0.358749 -0.358889 -0.307857  5.993893 -0.338535   \n",
       "TCGA-EY-A1GR-01 -0.240882 -0.298902 -0.299006 -0.272581  0.875424 -0.298736   \n",
       "TCGA-EY-A1GS-01 -0.251006 -0.308850 -0.309890 -0.281978  0.882618 -0.309322   \n",
       "TCGA-EY-A1GT-01 -0.299177 -0.332145 -0.332115 -0.287459  6.256126 -0.330088   \n",
       "TCGA-EY-A1GU-01 -0.270738 -0.279654 -0.279759 -0.255749  0.722533 -0.269944   \n",
       "TCGA-EY-A1GV-01 -0.172158 -0.317759 -0.317870 -0.306267  0.272431 -0.316024   \n",
       "TCGA-EY-A1GW-01 -0.258827 -0.276910 -0.277006 -0.271096  3.574153 -0.269778   \n",
       "TCGA-EY-A1H0-01 -0.308740 -0.315067 -0.315188 -0.281326  0.367461 -0.314601   \n",
       "TCGA-EY-A212-01 -0.271458 -0.354060 -0.354316 -0.331717  0.765643 -0.352390   \n",
       "TCGA-EY-A214-01 -0.194368 -0.287460 -0.286950 -0.271906  2.886085 -0.276123   \n",
       "TCGA-EY-A215-01 -0.348313 -0.373271 -0.373184 -0.331788  0.278996 -0.273960   \n",
       "TCGA-EY-A2OM-01 -0.318986 -0.324901 -0.324840 -0.308078  2.703133 -0.311699   \n",
       "TCGA-FI-A2CX-01 -0.165764 -0.137100 -0.190892 -0.174860  4.615240 -0.190798   \n",
       "TCGA-FI-A2CY-01 -0.303129 -0.317581 -0.317404 -0.284752  1.871335 -0.315369   \n",
       "TCGA-FI-A2D0-01 -0.353244 -0.372089 -0.372019 -0.348957  1.003692 -0.364731   \n",
       "TCGA-FI-A2D2-01 -0.348856 -0.360206 -0.360340 -0.340751  1.859377 -0.349253   \n",
       "TCGA-FI-A2D4-01 -0.252941 -0.265040 -0.265134 -0.230076  0.831034 -0.256496   \n",
       "TCGA-FI-A2D5-01 -0.300565 -0.307801 -0.307915 -0.285119  1.236110 -0.279301   \n",
       "TCGA-FI-A2D6-01 -0.246543 -0.332965 -0.333095 -0.301210  0.760056 -0.332245   \n",
       "TCGA-FI-A2EU-01 -0.239066 -0.336583 -0.336381 -0.313091  0.626711 -0.329699   \n",
       "TCGA-FI-A2EW-01 -0.249423 -0.305019 -0.303302 -0.282489  0.963703 -0.301692   \n",
       "TCGA-FI-A2EX-01 -0.299339 -0.337852 -0.337776 -0.301995  0.758386 -0.334125   \n",
       "TCGA-FI-A2F4-01 -0.309047 -0.319298 -0.319419 -0.283378  1.117068 -0.213041   \n",
       "TCGA-FI-A2F8-01 -0.298242 -0.339150 -0.338378 -0.311905  3.087657 -0.331090   \n",
       "TCGA-FI-A2F9-01 -0.265080 -0.314531 -0.314403 -0.276521  2.266315 -0.313938   \n",
       "\n",
       "                        6         7         8         9  ...     17485  \\\n",
       "TCGA-2E-A9G8-01 -0.188596  0.001917 -0.056096 -0.263083  ...  0.026982   \n",
       "TCGA-4E-A92E-01  0.060142 -0.091724 -0.061023 -0.321228  ... -0.125154   \n",
       "TCGA-5B-A90C-01 -0.029079 -0.028149 -0.145674 -0.343235  ...  0.087412   \n",
       "TCGA-5S-A9Q8-01  0.118097  0.266600 -0.021121 -0.276136  ... -0.116586   \n",
       "TCGA-A5-A1OH-01 -0.259671  0.181057 -0.152304 -0.270932  ...  0.099335   \n",
       "TCGA-A5-A2K2-01  0.199290 -0.082709 -0.112352 -0.330471  ...  0.130021   \n",
       "TCGA-A5-A2K3-01 -0.027102 -0.015128 -0.061423 -0.104098  ... -0.043601   \n",
       "TCGA-A5-A2K4-01  0.685887 -0.096343 -0.113726 -0.339023  ...  0.046127   \n",
       "TCGA-A5-A2K5-01 -0.167805  0.097833  0.090791 -0.235298  ... -0.008335   \n",
       "TCGA-A5-A2K7-01  0.157034  0.105876 -0.016337 -0.272992  ...  0.216843   \n",
       "TCGA-A5-A3LO-01  0.156481 -0.029435  0.582155 -0.347105  ...  0.425683   \n",
       "TCGA-A5-A3LP-01 -0.099056 -0.137599 -0.085149 -0.210234  ... -0.063772   \n",
       "TCGA-A5-A7WJ-01 -0.106849  0.007429  0.192176 -0.368587  ...  0.642554   \n",
       "TCGA-A5-A7WK-01 -0.061526 -0.016483 -0.048958 -0.284635  ... -0.124602   \n",
       "TCGA-A5-AB3J-01  0.165291 -0.052105  0.141919 -0.332826  ... -0.219623   \n",
       "TCGA-AJ-A23N-01 -0.176679 -0.051868 -0.105647 -0.260285  ...  0.106900   \n",
       "TCGA-AJ-A2QM-01 -0.044689  0.028011 -0.134419 -0.354883  ...  0.560876   \n",
       "TCGA-AJ-A2QO-01  0.268982 -0.147027 -0.082798 -0.267513  ...  0.003468   \n",
       "TCGA-AJ-A3BD-01  0.057486  0.103595 -0.054317 -0.285607  ...  0.082498   \n",
       "TCGA-AJ-A3BF-01 -0.260788  0.280211 -0.166165 -0.292513  ...  0.036379   \n",
       "TCGA-AJ-A3BG-01 -0.187492  0.003119  0.252256 -0.197482  ...  0.034769   \n",
       "TCGA-AJ-A3BH-01  0.412844 -0.087224 -0.139448 -0.306887  ... -0.057335   \n",
       "TCGA-AJ-A3BI-01 -0.074857 -0.014711 -0.062057 -0.170717  ... -0.093712   \n",
       "TCGA-AJ-A3BK-01  0.509911 -0.072098  0.000358 -0.245066  ...  0.011767   \n",
       "TCGA-AJ-A3EJ-01 -0.184862 -0.048008 -0.083225 -0.293038  ...  0.028814   \n",
       "TCGA-AJ-A3EK-01 -0.252120 -0.012888  0.082577 -0.301939  ...  0.424102   \n",
       "TCGA-AJ-A3EL-01 -0.091610  0.081446 -0.161881 -0.288905  ...  0.263591   \n",
       "TCGA-AJ-A3EM-01 -0.239431  0.426638  0.146012 -0.330836  ...  0.840570   \n",
       "TCGA-AJ-A3I9-01 -0.265687  0.116245 -0.033804 -0.316877  ...  0.142544   \n",
       "TCGA-AJ-A3IA-01 -0.208878 -0.094289 -0.158716 -0.352232  ... -0.143165   \n",
       "...                   ...       ...       ...       ...  ...       ...   \n",
       "TCGA-EY-A1GF-01 -0.187331 -0.105994  0.187786 -0.353290  ... -0.014378   \n",
       "TCGA-EY-A1GH-01  0.003285 -0.159747 -0.063053 -0.355491  ...  0.300738   \n",
       "TCGA-EY-A1GI-01 -0.125464 -0.117145  0.012113 -0.361193  ...  0.169499   \n",
       "TCGA-EY-A1GK-01 -0.221847 -0.031238  0.191705 -0.335029  ...  0.006374   \n",
       "TCGA-EY-A1GM-01 -0.059392  0.039198 -0.120982 -0.259052  ... -0.092825   \n",
       "TCGA-EY-A1GQ-01 -0.076433  0.011458 -0.184465 -0.358290  ...  0.402604   \n",
       "TCGA-EY-A1GR-01  0.129579  0.012937 -0.116656 -0.298813  ... -0.009540   \n",
       "TCGA-EY-A1GS-01  0.794212 -0.102325 -0.140047 -0.307228  ... -0.044998   \n",
       "TCGA-EY-A1GT-01  0.610852 -0.097569 -0.165481 -0.332230  ... -0.106435   \n",
       "TCGA-EY-A1GU-01  0.112371 -0.074151 -0.076978 -0.279726  ... -0.167301   \n",
       "TCGA-EY-A1GV-01  0.330513 -0.061776 -0.021297 -0.317835  ... -0.221531   \n",
       "TCGA-EY-A1GW-01 -0.054032 -0.049049  0.178450 -0.276976  ... -0.175270   \n",
       "TCGA-EY-A1H0-01  0.187611  0.072188  0.046844 -0.315150  ...  0.000707   \n",
       "TCGA-EY-A212-01  0.048259 -0.062104 -0.134308 -0.300896  ...  0.056670   \n",
       "TCGA-EY-A214-01  0.450242 -0.069518 -0.080378 -0.285084  ... -0.113427   \n",
       "TCGA-EY-A215-01 -0.253098  0.055650  0.151834 -0.371518  ...  0.075899   \n",
       "TCGA-EY-A2OM-01 -0.020917 -0.104206 -0.147429 -0.318468  ... -0.152342   \n",
       "TCGA-FI-A2CX-01 -0.163432 -0.053425 -0.125545 -0.188686  ... -0.144163   \n",
       "TCGA-FI-A2CY-01 -0.267996 -0.054810 -0.101939 -0.316326  ...  0.142601   \n",
       "TCGA-FI-A2D0-01  0.281090 -0.027592 -0.181856 -0.371935  ...  0.360512   \n",
       "TCGA-FI-A2D2-01 -0.063648 -0.047325  0.000190 -0.359818  ... -0.246303   \n",
       "TCGA-FI-A2D4-01 -0.119606  0.086136 -0.031205 -0.264906  ...  0.219411   \n",
       "TCGA-FI-A2D5-01 -0.157949 -0.084861  0.214873 -0.306156  ...  0.034832   \n",
       "TCGA-FI-A2D6-01  0.191096  0.381978  0.003538 -0.331059  ...  0.404347   \n",
       "TCGA-FI-A2EU-01 -0.185604 -0.056949 -0.053924 -0.336616  ...  0.007389   \n",
       "TCGA-FI-A2EW-01  0.337152  0.151580 -0.156549 -0.013154  ...  0.381652   \n",
       "TCGA-FI-A2EX-01 -0.080745  0.105017 -0.159987 -0.316487  ...  0.105880   \n",
       "TCGA-FI-A2F4-01  0.244597 -0.069202  0.114532 -0.319381  ... -0.024362   \n",
       "TCGA-FI-A2F8-01  0.206806  0.044523 -0.113535 -0.337938  ... -0.002131   \n",
       "TCGA-FI-A2F9-01 -0.100439  0.055811 -0.200473 -0.296551  ... -0.098569   \n",
       "\n",
       "                    17486     17487     17488     17489     17490     17491  \\\n",
       "TCGA-2E-A9G8-01 -0.264966 -0.218367 -0.030090 -0.258023 -0.109284  1.174178   \n",
       "TCGA-4E-A92E-01 -0.299533 -0.179050  0.009794 -0.321365 -0.113419  0.839393   \n",
       "TCGA-5B-A90C-01 -0.334354 -0.281787  0.014297 -0.339001 -0.108496  1.003857   \n",
       "TCGA-5S-A9Q8-01 -0.273484 -0.227961 -0.042336 -0.271716 -0.178903  0.314772   \n",
       "TCGA-A5-A1OH-01 -0.327012 -0.268144  0.137576 -0.319096 -0.120083  0.786686   \n",
       "TCGA-A5-A2K2-01 -0.310498 -0.171796  0.074856 -0.319216 -0.141361  0.334031   \n",
       "TCGA-A5-A2K3-01 -0.102915 -0.090941 -0.048265 -0.103472 -0.087390  0.537979   \n",
       "TCGA-A5-A2K4-01 -0.327945 -0.219898  0.061467 -0.309199 -0.060044  1.345587   \n",
       "TCGA-A5-A2K5-01 -0.235515 -0.220239 -0.100962 -0.238331 -0.186439  0.763445   \n",
       "TCGA-A5-A2K7-01 -0.284113 -0.226900 -0.045375 -0.288562 -0.131009  1.448719   \n",
       "TCGA-A5-A3LO-01 -0.338830 -0.265323 -0.072206 -0.340335 -0.163445  0.334232   \n",
       "TCGA-A5-A3LP-01 -0.202446 -0.136169 -0.011719 -0.163347  0.016254  0.553545   \n",
       "TCGA-A5-A7WJ-01 -0.350787 -0.249884 -0.012582 -0.368166 -0.150771  0.648031   \n",
       "TCGA-A5-A7WK-01 -0.277453 -0.229131  0.002018 -0.234283 -0.091503  1.082041   \n",
       "TCGA-A5-AB3J-01 -0.316766 -0.233855 -0.010976 -0.330867 -0.078741  1.574118   \n",
       "TCGA-AJ-A23N-01 -0.270013 -0.187692  0.014210 -0.281760 -0.136758  1.282608   \n",
       "TCGA-AJ-A2QM-01 -0.336590 -0.224939  0.113166 -0.257267  0.010822  1.196718   \n",
       "TCGA-AJ-A2QO-01 -0.261152 -0.197640 -0.072945 -0.267154 -0.161450  0.205291   \n",
       "TCGA-AJ-A3BD-01 -0.283045 -0.248088  0.014393 -0.276415 -0.164010  1.176720   \n",
       "TCGA-AJ-A3BF-01 -0.296670 -0.245964  0.110221 -0.303874 -0.104792  0.713008   \n",
       "TCGA-AJ-A3BG-01 -0.192178 -0.169014 -0.089357 -0.197305 -0.150802  0.248278   \n",
       "TCGA-AJ-A3BH-01 -0.292425 -0.205813 -0.012342 -0.306566 -0.127075  3.251453   \n",
       "TCGA-AJ-A3BI-01 -0.169203 -0.154821 -0.139956 -0.149866 -0.142571  0.372376   \n",
       "TCGA-AJ-A3BK-01 -0.242908 -0.223895 -0.117627 -0.244244 -0.187719  0.793465   \n",
       "TCGA-AJ-A3EJ-01 -0.282637 -0.200316  0.033422 -0.287540 -0.107000  1.099871   \n",
       "TCGA-AJ-A3EK-01 -0.294099 -0.195473 -0.080030 -0.298272 -0.063086  0.800019   \n",
       "TCGA-AJ-A3EL-01 -0.285875 -0.249050 -0.023320 -0.264083 -0.129484  1.291901   \n",
       "TCGA-AJ-A3EM-01 -0.324307 -0.241211  0.010211 -0.136630 -0.121198  2.063616   \n",
       "TCGA-AJ-A3I9-01 -0.309011 -0.221776 -0.049537 -0.248662 -0.176338  0.145245   \n",
       "TCGA-AJ-A3IA-01 -0.344398 -0.281140  0.079349 -0.326274 -0.032901  2.013811   \n",
       "...                   ...       ...       ...       ...       ...       ...   \n",
       "TCGA-EY-A1GF-01 -0.332812 -0.161988 -0.011951 -0.350997  0.039177  0.401718   \n",
       "TCGA-EY-A1GH-01 -0.352099 -0.229123 -0.114304 -0.358856 -0.016574  0.890990   \n",
       "TCGA-EY-A1GI-01 -0.345886 -0.097045 -0.049943 -0.358638  0.208604  0.370990   \n",
       "TCGA-EY-A1GK-01 -0.327072 -0.218171 -0.101293 -0.328193 -0.092669  1.107613   \n",
       "TCGA-EY-A1GM-01 -0.250905 -0.125588  0.220499 -0.257779 -0.046123  0.500736   \n",
       "TCGA-EY-A1GQ-01 -0.354850 -0.299638  0.086894 -0.334896 -0.031646  1.703490   \n",
       "TCGA-EY-A1GR-01 -0.293765 -0.225531 -0.023884 -0.278911 -0.064802  0.473835   \n",
       "TCGA-EY-A1GS-01 -0.304072 -0.221256  0.107315 -0.307618  0.002669  0.587559   \n",
       "TCGA-EY-A1GT-01 -0.322818 -0.219634 -0.033842 -0.300215  0.073224  2.051255   \n",
       "TCGA-EY-A1GU-01 -0.265525 -0.151913  0.134871 -0.279549 -0.014091  0.962617   \n",
       "TCGA-EY-A1GV-01 -0.311654 -0.224174  0.082859 -0.306576 -0.042596  2.094723   \n",
       "TCGA-EY-A1GW-01 -0.273105 -0.234919 -0.040616 -0.256045 -0.115064  0.285912   \n",
       "TCGA-EY-A1H0-01 -0.314396 -0.264081 -0.126291 -0.308040 -0.177020  1.124164   \n",
       "TCGA-EY-A212-01 -0.330725 -0.152281  0.082807 -0.330492  0.107599  1.099402   \n",
       "TCGA-EY-A214-01 -0.278784 -0.193115  0.086450 -0.282961 -0.057707  1.418522   \n",
       "TCGA-EY-A215-01 -0.358892 -0.219259  0.037249 -0.366917  0.184683  1.254141   \n",
       "TCGA-EY-A2OM-01 -0.313826 -0.147147  0.018618 -0.314579  0.097109  1.048792   \n",
       "TCGA-FI-A2CX-01 -0.184417 -0.154742 -0.040768 -0.184999 -0.007801  1.186760   \n",
       "TCGA-FI-A2CY-01 -0.302707 -0.195613  0.275386 -0.314185  0.041397  2.048490   \n",
       "TCGA-FI-A2D0-01 -0.355877 -0.226726  0.141938 -0.371144 -0.059486  2.585521   \n",
       "TCGA-FI-A2D2-01 -0.336894 -0.157538  0.073988 -0.349615  0.092553  1.240800   \n",
       "TCGA-FI-A2D4-01 -0.261872 -0.208974 -0.111956 -0.246655 -0.130065  1.228039   \n",
       "TCGA-FI-A2D5-01 -0.290267 -0.160666 -0.013456 -0.306502  0.047343  2.184093   \n",
       "TCGA-FI-A2D6-01 -0.316652 -0.154939  0.045503 -0.332510  0.091150  2.632132   \n",
       "TCGA-FI-A2EU-01 -0.320275 -0.173775  0.086968 -0.307924  0.078477  0.775693   \n",
       "TCGA-FI-A2EW-01 -0.300028 -0.255202  0.130553 -0.275084 -0.089512  0.714769   \n",
       "TCGA-FI-A2EX-01 -0.327828 -0.268086  0.065559 -0.312656 -0.067724  1.561657   \n",
       "TCGA-FI-A2F4-01 -0.298503 -0.181266 -0.039472 -0.318977 -0.065464  1.215911   \n",
       "TCGA-FI-A2F8-01 -0.331979 -0.245135  0.038606 -0.325035 -0.044264  2.333158   \n",
       "TCGA-FI-A2F9-01 -0.295257 -0.138248  0.208292 -0.313216  0.104128  1.149371   \n",
       "\n",
       "                    17492     17493    CANCER_SUB  \n",
       "TCGA-2E-A9G8-01 -0.229782 -0.121875  UCEC_CN_HIGH  \n",
       "TCGA-4E-A92E-01  0.058913 -0.052700   UCEC_CN_LOW  \n",
       "TCGA-5B-A90C-01 -0.224781  0.013471  UCEC_CN_HIGH  \n",
       "TCGA-5S-A9Q8-01 -0.071947 -0.106863   UCEC_CN_LOW  \n",
       "TCGA-A5-A1OH-01 -0.160220 -0.140263     UCEC_POLE  \n",
       "TCGA-A5-A2K2-01 -0.096184 -0.068126     UCEC_POLE  \n",
       "TCGA-A5-A2K3-01 -0.051328 -0.084188           NaN  \n",
       "TCGA-A5-A2K4-01 -0.086118 -0.044024  UCEC_CN_HIGH  \n",
       "TCGA-A5-A2K5-01 -0.149280 -0.203556      UCEC_MSI  \n",
       "TCGA-A5-A2K7-01 -0.125201 -0.175000      UCEC_MSI  \n",
       "TCGA-A5-A3LO-01 -0.118202 -0.087574      UCEC_MSI  \n",
       "TCGA-A5-A3LP-01  0.084756  0.061392           NaN  \n",
       "TCGA-A5-A7WJ-01  0.091589 -0.040177   UCEC_CN_LOW  \n",
       "TCGA-A5-A7WK-01 -0.088537 -0.059497           NaN  \n",
       "TCGA-A5-AB3J-01 -0.004579 -0.084486      UCEC_MSI  \n",
       "TCGA-AJ-A23N-01 -0.081327 -0.079124      UCEC_MSI  \n",
       "TCGA-AJ-A2QM-01  0.109068 -0.029076  UCEC_CN_HIGH  \n",
       "TCGA-AJ-A2QO-01 -0.040785 -0.149267   UCEC_CN_LOW  \n",
       "TCGA-AJ-A3BD-01 -0.143819 -0.179228  UCEC_CN_HIGH  \n",
       "TCGA-AJ-A3BF-01 -0.120447 -0.096064     UCEC_POLE  \n",
       "TCGA-AJ-A3BG-01 -0.049662 -0.084318   UCEC_CN_LOW  \n",
       "TCGA-AJ-A3BH-01  0.018351  0.001155           NaN  \n",
       "TCGA-AJ-A3BI-01 -0.140438 -0.138855   UCEC_CN_LOW  \n",
       "TCGA-AJ-A3BK-01 -0.122868 -0.179394   UCEC_CN_LOW  \n",
       "TCGA-AJ-A3EJ-01 -0.116658 -0.096747      UCEC_MSI  \n",
       "TCGA-AJ-A3EK-01  0.007217 -0.093559   UCEC_CN_LOW  \n",
       "TCGA-AJ-A3EL-01 -0.173884 -0.168058  UCEC_CN_HIGH  \n",
       "TCGA-AJ-A3EM-01 -0.006170 -0.153843   UCEC_CN_LOW  \n",
       "TCGA-AJ-A3I9-01 -0.237391 -0.108359   UCEC_CN_LOW  \n",
       "TCGA-AJ-A3IA-01  0.191135 -0.147374   UCEC_CN_LOW  \n",
       "...                   ...       ...           ...  \n",
       "TCGA-EY-A1GF-01 -0.070874  0.014796      UCEC_MSI  \n",
       "TCGA-EY-A1GH-01 -0.120580 -0.020369  UCEC_CN_HIGH  \n",
       "TCGA-EY-A1GI-01 -0.040982  0.052233  UCEC_CN_HIGH  \n",
       "TCGA-EY-A1GK-01 -0.002211 -0.111465  UCEC_CN_HIGH  \n",
       "TCGA-EY-A1GM-01 -0.070652 -0.071152  UCEC_CN_HIGH  \n",
       "TCGA-EY-A1GQ-01 -0.035307 -0.162789  UCEC_CN_HIGH  \n",
       "TCGA-EY-A1GR-01 -0.161306 -0.140024  UCEC_CN_HIGH  \n",
       "TCGA-EY-A1GS-01 -0.117334 -0.202780  UCEC_CN_HIGH  \n",
       "TCGA-EY-A1GT-01 -0.005863 -0.114593  UCEC_CN_HIGH  \n",
       "TCGA-EY-A1GU-01  0.094334 -0.041575   UCEC_CN_LOW  \n",
       "TCGA-EY-A1GV-01 -0.138282 -0.077947  UCEC_CN_HIGH  \n",
       "TCGA-EY-A1GW-01 -0.136865 -0.103309  UCEC_CN_HIGH  \n",
       "TCGA-EY-A1H0-01 -0.087947 -0.175251  UCEC_CN_HIGH  \n",
       "TCGA-EY-A212-01 -0.115108 -0.002198  UCEC_CN_HIGH  \n",
       "TCGA-EY-A214-01  0.007663 -0.101000      UCEC_MSI  \n",
       "TCGA-EY-A215-01  0.326289  0.015219  UCEC_CN_HIGH  \n",
       "TCGA-EY-A2OM-01 -0.087171 -0.069307  UCEC_CN_HIGH  \n",
       "TCGA-FI-A2CX-01  0.148032 -0.069296  UCEC_CN_HIGH  \n",
       "TCGA-FI-A2CY-01 -0.095577  0.055372   UCEC_CN_LOW  \n",
       "TCGA-FI-A2D0-01  0.044939 -0.067163      UCEC_MSI  \n",
       "TCGA-FI-A2D2-01 -0.136932  0.021589     UCEC_POLE  \n",
       "TCGA-FI-A2D4-01 -0.141675 -0.139503   UCEC_CN_LOW  \n",
       "TCGA-FI-A2D5-01  0.127488 -0.133156     UCEC_POLE  \n",
       "TCGA-FI-A2D6-01  0.089839 -0.078911      UCEC_MSI  \n",
       "TCGA-FI-A2EU-01  0.114145  0.003737   UCEC_CN_LOW  \n",
       "TCGA-FI-A2EW-01 -0.022283 -0.048945  UCEC_CN_HIGH  \n",
       "TCGA-FI-A2EX-01 -0.034333 -0.155402      UCEC_MSI  \n",
       "TCGA-FI-A2F4-01  0.064800 -0.107220   UCEC_CN_LOW  \n",
       "TCGA-FI-A2F8-01 -0.012226 -0.099079  UCEC_CN_HIGH  \n",
       "TCGA-FI-A2F9-01 -0.024364 -0.086326      UCEC_MSI  \n",
       "\n",
       "[527 rows x 17495 columns]"
      ]
     },
     "execution_count": 29,
     "metadata": {},
     "output_type": "execute_result"
    }
   ],
   "source": [
    "data_all_c = data_all.copy().transpose()\n",
    "data_all_c.sort_index()\n",
    "data_all_b = data_all.copy().transpose()\n",
    "data_all_b.sort_index()\n",
    "a = data_sample['CANCER_TYPE_DETAILED']\n",
    "b = data_sample['SUBTYPE']\n",
    "data_all_c['CANCER_DET'] = a.values\n",
    "data_all_b['CANCER_SUB'] = b.values\n",
    "data_all_b\n"
   ]
  },
  {
   "cell_type": "markdown",
   "metadata": {},
   "source": [
    "### Verificar se há NA's no Dataset total:"
   ]
  },
  {
   "cell_type": "code",
   "execution_count": 30,
   "metadata": {},
   "outputs": [
    {
     "data": {
      "text/plain": [
       "21"
      ]
     },
     "execution_count": 30,
     "metadata": {},
     "output_type": "execute_result"
    }
   ],
   "source": [
    "data_all_b.isnull().sum().sum()\n"
   ]
  },
  {
   "cell_type": "markdown",
   "metadata": {},
   "source": [
    "### Retirar os NA's do Dataset total:"
   ]
  },
  {
   "cell_type": "code",
   "execution_count": 31,
   "metadata": {},
   "outputs": [
    {
     "name": "stdout",
     "output_type": "stream",
     "text": [
      "0\n"
     ]
    },
    {
     "data": {
      "text/plain": [
       "(506, 17495)"
      ]
     },
     "execution_count": 31,
     "metadata": {},
     "output_type": "execute_result"
    }
   ],
   "source": [
    "data_all_b=data_all_b.dropna()\n",
    "print(data_all_b.isnull().sum().sum())\n",
    "data_all_b.shape"
   ]
  },
  {
   "cell_type": "markdown",
   "metadata": {},
   "source": [
    "O nosso dataset (data_RNA) contém dados de expressão de RNA e é composto por 20531 linhas (genes) e 529 colunas (\"Hugo_Symbol\", \"Entrez_Gene_Id\" e 527 samples), originalmente. Este dataset é composto por 527 atributos numéricos, uma vez que as duas primeiras colunas são o \"Hugo_Symbol\" e o \"Entrez_Gene_Id\". Relativamente aos metadados, temos dois dataframes, um para os dados dos pacientes (\"data_patient\") e outro para os dados das amostras (\"data_sample\").\n",
    "O dataset \"data_patient\" é composto por 38 atributos quantitativos continuos (por exemplo \"AGE\"), atributos qualitativos nominais (por exemplo \"SEX\") , enquanto que o data_sample tem 52 atributos nominais (por exemplo \"CANCER_TYPE_DETAILED\") e atributos ordinais (por exemplo \"GRADE\").\n",
    "\n",
    "Em primeiro lugar carregamos os três dataframes: \"data_RNA\", \"data_sample\" e \"data_paciente\". De seguida, como o dataset não tinha a mesma ordem que os dados dos metadados, foi necessário organizar os metadados de forma a que fosse mais fácil trabalhar com os três dataframes (foi feita uma ordenação por ordem alfabética) . O próximo passo foram verificar a existência de NA's e retirá-los do dataset \"data_RNA\". No próximo passo, verificamos que existiam inconsistências no número das samples dos datasets, o dataset \"data_RNA\" tinha duas amostras a menos que os metadados, portanto foi necessário descobrir quais as amostras a mais e retirá-las dos metadados. Depois guardamos um array com as informações dos genes e retiramos duas colunas que não iam ser necessárias na análise (\"Hugo_Symbol\" e \"Entrez_Gene_Id\"). Uma vez que estamos a utilizar um dataset que não tem qualquer tipo de transformação foi necessario fazer a normalização dos dados. Visto que existem dois tipos de classificações, a inicial utilizada convencionalmente e a nova classificação descrita pelo artigo, o passo seguinte foi colocar as samples em linhas e os genes em colunas e adicionar a coluna \"CANCER_DET\" e \"CANCER_SUB\" respetivamente dos metadados ao dataset, para nos facilitar todas as análises futuras. Por fim, retiramos os NA's ao dataset que continha valores de metadados em falta. No final obtivémos dois datasets, mais especificamente, \"data_all_c\" com os valores dos genes e uma coluna de metadados \"CANCER_DET\" por cada sample e \"data_all_b\" com os valores dos genes e uma coluna \"CANCER_SUB\" por cada sample."
   ]
  },
  {
   "cell_type": "markdown",
   "metadata": {},
   "source": [
    "### Gráficos exploratórios:"
   ]
  },
  {
   "cell_type": "markdown",
   "metadata": {},
   "source": [
    "Neste ponto foram feitos alguns gráficos exploratórios para avaliar a consistência dos dados do dataset com os dados do artigo e do site.\n",
    "Os gráficos mais pertinentes estão abaixo apresentados."
   ]
  },
  {
   "cell_type": "markdown",
   "metadata": {},
   "source": [
    "#### Status geral da sobrevivência:"
   ]
  },
  {
   "cell_type": "code",
   "execution_count": 20,
   "metadata": {
    "collapsed": true
   },
   "outputs": [
    {
     "data": {
      "image/png": "[encoded data removed]",
      "text/plain": [
       "<Figure size 432x288 with 1 Axes>"
      ]
     },
     "metadata": {},
     "output_type": "display_data"
    },
    {
     "data": {
      "text/plain": [
       "OS_STATUS\n",
       "DECEASED     87\n",
       "LIVING      440\n",
       "Name: PATIENT_ID, dtype: int64"
      ]
     },
     "execution_count": 20,
     "metadata": {},
     "output_type": "execute_result"
    }
   ],
   "source": [
    "stat_status = data_patient.groupby(['OS_STATUS']).count()\n",
    "fig, ax1 = plt.subplots()\n",
    "labels = 'DECEASED','LIVING'\n",
    "ax1.pie(stat_status['PATIENT_ID'],labels = labels)\n",
    "\n",
    "plt.show()\n",
    "stat_status['PATIENT_ID']"
   ]
  },
  {
   "cell_type": "markdown",
   "metadata": {},
   "source": [
    "#### Raça:"
   ]
  },
  {
   "cell_type": "code",
   "execution_count": 82,
   "metadata": {},
   "outputs": [
    {
     "data": {
      "image/png": "[encoded data removed]",
      "text/plain": [
       "<Figure size 432x288 with 1 Axes>"
      ]
     },
     "metadata": {},
     "output_type": "display_data"
    },
    {
     "data": {
      "text/plain": [
       "RACE\n",
       "American Indian or Alaska Native               4\n",
       "Asian                                         20\n",
       "Black or African American                    107\n",
       "Native Hawaiian or Other Pacific Islander      9\n",
       "White                                        355\n",
       "Name: PATIENT_ID, dtype: int64"
      ]
     },
     "execution_count": 82,
     "metadata": {},
     "output_type": "execute_result"
    }
   ],
   "source": [
    "stat_race = data_patient.groupby(['RACE']).count()\n",
    "fig, ax1 = plt.subplots()\n",
    "labels = 'American Indian or Alaska Native','Asian','Black or African American', 'Native Hawaiian or Other Pacific Islander','White' \n",
    "ax1.pie(stat_race['PATIENT_ID'], labels = labels)\n",
    "plt.show()\n",
    "stat_race['PATIENT_ID']"
   ]
  },
  {
   "cell_type": "markdown",
   "metadata": {},
   "source": [
    "#### Subtipo de cancro:"
   ]
  },
  {
   "cell_type": "code",
   "execution_count": 23,
   "metadata": {},
   "outputs": [
    {
     "data": {
      "image/png": "[encoded data removed]",
      "text/plain": [
       "<Figure size 432x288 with 1 Axes>"
      ]
     },
     "metadata": {},
     "output_type": "display_data"
    },
    {
     "data": {
      "text/plain": [
       "SUBTYPE\n",
       "UCEC_CN_HIGH    163\n",
       "UCEC_CN_LOW     147\n",
       "UCEC_MSI        147\n",
       "UCEC_POLE        49\n",
       "Name: PATIENT_ID, dtype: int64"
      ]
     },
     "execution_count": 23,
     "metadata": {},
     "output_type": "execute_result"
    }
   ],
   "source": [
    "stat_SUBTYPE = data_patient.groupby(['SUBTYPE']).count()\n",
    "fig, ax1 = plt.subplots()\n",
    "labels = 'UCEC_CN_HIGH','UCEC_CN_LOW', 'UCEC_MSI', 'UCEC_POLE'\n",
    "ax1.pie(stat_SUBTYPE['PATIENT_ID'], labels= labels)\n",
    "plt.show()\n",
    "stat_SUBTYPE['PATIENT_ID']"
   ]
  },
  {
   "cell_type": "markdown",
   "metadata": {},
   "source": [
    "#### Tipo de tumor:"
   ]
  },
  {
   "cell_type": "code",
   "execution_count": 24,
   "metadata": {},
   "outputs": [
    {
     "data": {
      "image/png": "[encoded data removed]",
      "text/plain": [
       "<Figure size 432x288 with 1 Axes>"
      ]
     },
     "metadata": {},
     "output_type": "display_data"
    },
    {
     "data": {
      "text/plain": [
       "TUMOR_TYPE\n",
       "Endometrioid Endometrial Adenocarcinoma    397\n",
       "Mixed Serous and Endometrioid Carcinoma     21\n",
       "Serous Endometrial Adenocarcinoma          109\n",
       "Name: PATIENT_ID, dtype: int64"
      ]
     },
     "execution_count": 24,
     "metadata": {},
     "output_type": "execute_result"
    }
   ],
   "source": [
    "stat_tum_type = data_sample.groupby(['TUMOR_TYPE']).count()\n",
    "fig, ax1 = plt.subplots()\n",
    "labels= 'Endometrioid Endometrial Adenocarcinoma','Mixed Serous and Endometrioid Carcinoma','Serous Endometrial Adenocarcinoma'\n",
    "ax1.pie(stat_tum_type['PATIENT_ID'],labels = labels)\n",
    "plt.show()\n",
    "stat_tum_type['PATIENT_ID']"
   ]
  },
  {
   "cell_type": "markdown",
   "metadata": {},
   "source": [
    "#### Status 10p:"
   ]
  },
  {
   "cell_type": "code",
   "execution_count": 25,
   "metadata": {},
   "outputs": [
    {
     "data": {
      "image/png": "[encoded data removed]",
      "text/plain": [
       "<Figure size 432x288 with 1 Axes>"
      ]
     },
     "metadata": {},
     "output_type": "display_data"
    },
    {
     "data": {
      "text/plain": [
       "STATUS_10P\n",
       "Gained         96\n",
       "Lost           20\n",
       "Not Called    379\n",
       "Name: PATIENT_ID, dtype: int64"
      ]
     },
     "execution_count": 25,
     "metadata": {},
     "output_type": "execute_result"
    }
   ],
   "source": [
    "stat_STATUS_10P = data_sample.groupby(['STATUS_10P']).count()\n",
    "fig, ax1 = plt.subplots()\n",
    "labels='Gained','Lost','Not Called'\n",
    "ax1.pie(stat_STATUS_10P['PATIENT_ID'],labels = labels)\n",
    "plt.show()\n",
    "stat_STATUS_10P['PATIENT_ID']"
   ]
  },
  {
   "cell_type": "markdown",
   "metadata": {},
   "source": [
    "#### Status 10q:"
   ]
  },
  {
   "cell_type": "code",
   "execution_count": 26,
   "metadata": {},
   "outputs": [
    {
     "data": {
      "image/png": "[encoded data removed]",
      "text/plain": [
       "<Figure size 432x288 with 1 Axes>"
      ]
     },
     "metadata": {},
     "output_type": "display_data"
    },
    {
     "data": {
      "text/plain": [
       "STATUS_10Q\n",
       "Gained         69\n",
       "Lost           24\n",
       "Not Called    349\n",
       "Name: PATIENT_ID, dtype: int64"
      ]
     },
     "execution_count": 26,
     "metadata": {},
     "output_type": "execute_result"
    }
   ],
   "source": [
    "stat_STATUS_10Q = data_sample.groupby(['STATUS_10Q']).count()\n",
    "fig, ax1 = plt.subplots()\n",
    "labels='Gained','Lost','Not Called'\n",
    "ax1.pie(stat_STATUS_10Q['PATIENT_ID'],labels = labels)\n",
    "plt.show()\n",
    "stat_STATUS_10Q['PATIENT_ID']"
   ]
  },
  {
   "cell_type": "markdown",
   "metadata": {},
   "source": [
    "#### Histograma da idade dos pacientes:"
   ]
  },
  {
   "cell_type": "code",
   "execution_count": 32,
   "metadata": {},
   "outputs": [
    {
     "data": {
      "image/png": "[encoded data removed]",
      "text/plain": [
       "<Figure size 432x288 with 1 Axes>"
      ]
     },
     "metadata": {
      "needs_background": "light"
     },
     "output_type": "display_data"
    },
    {
     "data": {
      "text/plain": [
       "63.7557251908397"
      ]
     },
     "execution_count": 32,
     "metadata": {},
     "output_type": "execute_result"
    }
   ],
   "source": [
    "plt.hist(x=data_patient['AGE'],  bins=[30,35,40, 45, 50, 55, 60, 65, 70, 75, 80, 85, 90], range=[30,90])\n",
    "plt.ylabel('Number of Patients')\n",
    "plt.xlabel('Age')\n",
    "plt.show()\n",
    "data_patient['AGE'].mean()"
   ]
  },
  {
   "cell_type": "markdown",
   "metadata": {},
   "source": [
    "## Etapa 3: Análise inferencial/ estatística univariada"
   ]
  },
  {
   "cell_type": "code",
   "execution_count": 34,
   "metadata": {},
   "outputs": [],
   "source": [
    "from scipy import stats\n",
    "import statsmodels.api as sm\n",
    "import warnings\n",
    "warnings.filterwarnings('ignore')"
   ]
  },
  {
   "cell_type": "markdown",
   "metadata": {},
   "source": [
    "### QQ plots:"
   ]
  },
  {
   "cell_type": "code",
   "execution_count": 35,
   "metadata": {},
   "outputs": [
    {
     "data": {
      "image/png": "[encoded data removed]",
      "text/plain": [
       "<Figure size 432x288 with 1 Axes>"
      ]
     },
     "execution_count": 35,
     "metadata": {},
     "output_type": "execute_result"
    },
    {
     "data": {
      "image/png": "[encoded data removed]",
      "text/plain": [
       "<Figure size 432x288 with 1 Axes>"
      ]
     },
     "metadata": {
      "needs_background": "light"
     },
     "output_type": "display_data"
    }
   ],
   "source": [
    "sm.qqplot(data_all_c.iloc[:,:-1])"
   ]
  },
  {
   "cell_type": "markdown",
   "metadata": {},
   "source": [
    "### Teste Shapiro: "
   ]
  },
  {
   "cell_type": "code",
   "execution_count": 36,
   "metadata": {
    "scrolled": true
   },
   "outputs": [
    {
     "data": {
      "text/plain": [
       "(0.25504904985427856, 0.0)"
      ]
     },
     "execution_count": 36,
     "metadata": {},
     "output_type": "execute_result"
    }
   ],
   "source": [
    "w, p_value = stats.shapiro(data_all_c.iloc[:,:-1])\n",
    "w, p_value"
   ]
  },
  {
   "cell_type": "markdown",
   "metadata": {},
   "source": [
    "H0: Os dados seguem uma distribuição normal.\n",
    "\n",
    "H1: Os dados não seguem uma distribuição normal.\n",
    "\n",
    "Visto que não se observa a representação de uma linha na diagonal apartir do qqplot e que se obtém um valor de p-value inferior a 0.05 no teste de shapiro, rejeita-se H0. \n",
    "Assume-se então, a partir de agora, que os dados não seguem uma distribuição normal, por isso os testes realizados serão não paramétricos.\n",
    "\n"
   ]
  },
  {
   "cell_type": "markdown",
   "metadata": {},
   "source": [
    "#### Sub-divisao do dataset pelos metadados para ser possível fazer uma comparaçao entre as diferentes amostras:"
   ]
  },
  {
   "cell_type": "code",
   "execution_count": 37,
   "metadata": {},
   "outputs": [],
   "source": [
    "data_endo = data_all_c[data_all_c['CANCER_DET']== 'Uterine Endometrioid Carcinoma']\n",
    "data_serous = data_all_c[data_all_c['CANCER_DET']== 'Uterine Serous Carcinoma/Uterine Papillary Serous Carcinoma']\n",
    "data_mixed = data_all_c[data_all_c['CANCER_DET']== 'Uterine Mixed Endometrial Carcinoma']\n"
   ]
  },
  {
   "cell_type": "markdown",
   "metadata": {},
   "source": [
    "### Teste de Teste de Kruskal-Wallis:"
   ]
  },
  {
   "cell_type": "code",
   "execution_count": 38,
   "metadata": {},
   "outputs": [
    {
     "data": {
      "text/plain": [
       "KruskalResult(statistic=528327597972.84357, pvalue=0.0)"
      ]
     },
     "execution_count": 38,
     "metadata": {},
     "output_type": "execute_result"
    }
   ],
   "source": [
    "stats.kruskal(data_endo.iloc[:,:-1], data_serous.iloc[:,:-1], data_mixed.iloc[:,:-1])"
   ]
  },
  {
   "cell_type": "markdown",
   "metadata": {},
   "source": [
    "#### Sub-divisao do dataset pelos metadados para ser possível fazer uma comparaçao entre as diferentes amostras."
   ]
  },
  {
   "cell_type": "code",
   "execution_count": 40,
   "metadata": {},
   "outputs": [],
   "source": [
    "data_cn_high = data_all_b[data_all_b['CANCER_SUB']== 'UCEC_CN_HIGH']\n",
    "data_cn_low = data_all_b[data_all_b['CANCER_SUB']== 'UCEC_CN_LOW'] \n",
    "data_pole = data_all_b[data_all_b['CANCER_SUB']== 'UCEC_POLE'] \n",
    "data_msi= data_all_b[data_all_b['CANCER_SUB']== 'UCEC_MSI']"
   ]
  },
  {
   "cell_type": "markdown",
   "metadata": {},
   "source": [
    "### Teste Kruskal-Wallis:"
   ]
  },
  {
   "cell_type": "code",
   "execution_count": 41,
   "metadata": {},
   "outputs": [
    {
     "data": {
      "text/plain": [
       "KruskalResult(statistic=515250599179.8202, pvalue=0.0)"
      ]
     },
     "execution_count": 41,
     "metadata": {},
     "output_type": "execute_result"
    }
   ],
   "source": [
    "stats.kruskal(data_cn_high.iloc[:,:-1], data_cn_low.iloc[:,:-1], data_pole.iloc[:,:-1], data_msi.iloc[:,:-1])"
   ]
  },
  {
   "cell_type": "markdown",
   "metadata": {},
   "source": [
    "H0: As variâncias das populações são as mesmas.\n",
    "\n",
    "H1: As variâncias das populações não são as mesmas.\n",
    "\n",
    "Para ambos os testes,uma vez que o valor de p-value obtido é inferior a 0.05, concluimos que as diferenças entre, pelo menos, algumas das variâncias são estatisticamente significativas a um nível de significância de 95%.\n",
    "\n",
    "Estes dados enfatizam a existência de diferenças nas amostras obtidas para cada um dos grupos de estudo."
   ]
  },
  {
   "cell_type": "markdown",
   "metadata": {},
   "source": [
    "## Análise Fold Change \n"
   ]
  },
  {
   "cell_type": "code",
   "execution_count": 43,
   "metadata": {},
   "outputs": [],
   "source": [
    "def differential_expression(data, group_col, features, reference=None):\n",
    "    if group_col not in data.columns:\n",
    "        raise ValueError(\"`group_col` {} not found in data\".format(group_col))\n",
    "    if any([x not in data.columns for x in features]):\n",
    "        raise ValueError(\"Not all provided features found in data.\")\n",
    "    if reference is None:\n",
    "        reference = data[group_col].unique()[0]\n",
    "        print(\"No reference group provided. Using {}\".format(reference))\n",
    "    elif reference not in data[group_col].unique():\n",
    "        raise ValueError(\"Reference value {} not found in column {}.\".format(\n",
    "                         reference, group_col))\n",
    "    by_group = data.groupby(group_col)\n",
    "    reference_avg = by_group.get_group(reference).loc[:,features].mean()\n",
    "    values = []\n",
    "    results = {}\n",
    "    for each, index in by_group.groups.items():\n",
    "        values.append(data.loc[index, features])\n",
    "        if each !=  reference:\n",
    "            key = \"{}.FoldChange\".format(each)\n",
    "            results[key] = data.loc[index, features].mean()\\\n",
    "                         / reference_avg\n",
    "    fold_change_cols = list(results.keys())\n",
    "    fvalues, pvalues = stats.kruskal(*values)\n",
    "    results['f.value'] = fvalues\n",
    "    results['p.value'] = pvalues\n",
    "    results['p.value.adj'] = pvalues * len(features)\n",
    "    results_df = pd.DataFrame(results)\n",
    "    def largest_deviation(x):\n",
    "        i = np.where(abs(x) == max(abs(x)))[0][0]\n",
    "        return x[i]\n",
    "    results_df['Max.FoldChange'] = results_df[fold_change_cols].apply(\n",
    "                                       lambda x: largest_deviation(x.values), axis=1)\n",
    "\n",
    "    return results_df"
   ]
  },
  {
   "cell_type": "markdown",
   "metadata": {},
   "source": [
    "#### Lista com todos os genes mais os metadados:"
   ]
  },
  {
   "cell_type": "code",
   "execution_count": 44,
   "metadata": {},
   "outputs": [],
   "source": [
    "t=list(data_all_b.columns)\n",
    "t=t[:-1]\n"
   ]
  },
  {
   "cell_type": "code",
   "execution_count": 45,
   "metadata": {
    "scrolled": true
   },
   "outputs": [],
   "source": [
    "change_fold_endo=differential_expression(data_all_c ,'CANCER_DET',t, 'Uterine Endometrioid Carcinoma')\n",
    "change_fold_serous=differential_expression(data_all_c ,'CANCER_DET',t, 'Uterine Serous Carcinoma/Uterine Papillary Serous Carcinoma')\n",
    "change_fold_mixed=differential_expression(data_all_c ,'CANCER_DET',t, 'Uterine Mixed Endometrial Carcinoma')"
   ]
  },
  {
   "cell_type": "code",
   "execution_count": 46,
   "metadata": {},
   "outputs": [],
   "source": [
    "change_fold_cn_high=differential_expression(data_all_b ,'CANCER_SUB',t, 'UCEC_CN_HIGH')\n",
    "change_fold_cn_low=differential_expression(data_all_b ,'CANCER_SUB',t, 'UCEC_CN_LOW')\n",
    "change_fold_pole=differential_expression(data_all_b ,'CANCER_SUB',t, 'UCEC_POLE')\n",
    "change_fold_msi=differential_expression(data_all_b ,'CANCER_SUB',t, 'UCEC_MSI')\n"
   ]
  },
  {
   "cell_type": "code",
   "execution_count": 47,
   "metadata": {},
   "outputs": [],
   "source": [
    "change_fold_endo\n",
    "diff_endo=change_fold_endo.sort_values(by='Max.FoldChange',ascending =False)\n",
    "top10_sobre=diff_endo.index[:10]\n",
    "top10_sub=diff_endo.index[-10:]"
   ]
  },
  {
   "cell_type": "markdown",
   "metadata": {},
   "source": [
    "#### Lista de genes mais expressos nos outros tipos de cancros em relaçao a Uterine Endometrioid Carcinoma:"
   ]
  },
  {
   "cell_type": "code",
   "execution_count": 48,
   "metadata": {},
   "outputs": [
    {
     "data": {
      "text/plain": [
       "['FAM49B',\n",
       " 'GDA',\n",
       " 'STEAP3',\n",
       " 'SPOP',\n",
       " 'TLE2',\n",
       " 'CES2',\n",
       " 'FBXL19',\n",
       " 'PHF1',\n",
       " 'POLD1',\n",
       " 'HERC2P2']"
      ]
     },
     "execution_count": 48,
     "metadata": {},
     "output_type": "execute_result"
    }
   ],
   "source": [
    "lista_sobrexpressos=[]\n",
    "\n",
    "for i in top10_sobre:\n",
    "    lista_sobrexpressos.append(data_RNA['Hugo_Symbol'][i])\n",
    "lista_sobrexpressos"
   ]
  },
  {
   "cell_type": "markdown",
   "metadata": {},
   "source": [
    "FAM49B, STEAP3, SPOP, CES2, FBXL19, PHF1 e POLD1 foram mais sobreexpressos em Uterine Mixed Endometrial Carcinoma em relação a Uterine Endometrioid Carcinoma.\n",
    "GDA, TLE2, e HERC2P2 foram mais sobreexpressos em Uterine Serous Carcinoma/Uterine Papillary Serous Carcinoma  em relação a Uterine Endometrioid Carcinoma."
   ]
  },
  {
   "cell_type": "markdown",
   "metadata": {},
   "source": [
    "#### Lista de genes menos expressos nos outros tipos de cancros em relaçao a Uterine Endometrioid Carcinoma:"
   ]
  },
  {
   "cell_type": "code",
   "execution_count": 49,
   "metadata": {},
   "outputs": [
    {
     "data": {
      "text/plain": [
       "['CEP350',\n",
       " 'DACT2',\n",
       " 'RARRES2',\n",
       " 'ZFP106',\n",
       " 'ST3GAL1',\n",
       " 'RGL3',\n",
       " 'ARVCF',\n",
       " 'C2orf68',\n",
       " 'LMBR1',\n",
       " 'MUC4']"
      ]
     },
     "execution_count": 49,
     "metadata": {},
     "output_type": "execute_result"
    }
   ],
   "source": [
    "lista_subexpressos=[]\n",
    "for i in top10_sub:\n",
    "    lista_subexpressos.append(data_RNA['Hugo_Symbol'][i])\n",
    "lista_subexpressos"
   ]
  },
  {
   "cell_type": "markdown",
   "metadata": {},
   "source": [
    "Todos os genes referidos na lista foram mais subexpressos em Uterine Mixed Endometrial Carcinoma (em relação a Uterine Endometrioid Carcinoma) do que em Uterine Serous Carcinoma/Uterine Papillary Serous Carcinoma (em relação a Uterine Endometrioid Carcinoma)."
   ]
  },
  {
   "cell_type": "code",
   "execution_count": 50,
   "metadata": {},
   "outputs": [],
   "source": [
    "change_fold_serous\n",
    "diff_serous=change_fold_serous.sort_values(by='Max.FoldChange',ascending =False)\n",
    "top10_sobre=diff_serous.index[:10]\n",
    "top10_sub=diff_serous.index[-10:]"
   ]
  },
  {
   "cell_type": "markdown",
   "metadata": {},
   "source": [
    "#### Lista de genes mais expressos nos outros tipos de cancros em relaçao a Uterine Serous Carcinoma/Uterine Papillary Serous Carcinoma:"
   ]
  },
  {
   "cell_type": "code",
   "execution_count": 51,
   "metadata": {},
   "outputs": [
    {
     "data": {
      "text/plain": [
       "['ZXDC',\n",
       " 'CADM4',\n",
       " 'GMPS',\n",
       " 'MRPL27',\n",
       " 'COX15',\n",
       " 'ERCC5',\n",
       " 'DSC2',\n",
       " 'KIFC1',\n",
       " 'PRNP',\n",
       " 'RCOR1']"
      ]
     },
     "execution_count": 51,
     "metadata": {},
     "output_type": "execute_result"
    }
   ],
   "source": [
    "lista_sobrexpressos=[]\n",
    "\n",
    "for i in top10_sobre:\n",
    "    lista_sobrexpressos.append(data_RNA['Hugo_Symbol'][i])\n",
    "lista_sobrexpressos"
   ]
  },
  {
   "cell_type": "markdown",
   "metadata": {},
   "source": [
    "Todos os genes referidos na lista foram mais sobreexpressos em Uterine Mixed Endometrial Carcinoma (em relação a Uterine Serous Carcinoma/Uterine Papillary Serous Carcinoma) do que em Uterine Endometrioid Carcinoma (em relação a Uterine Serous Carcinoma/Uterine Papillary Serous Carcinoma)."
   ]
  },
  {
   "cell_type": "markdown",
   "metadata": {},
   "source": [
    "#### Lista de genes menos expressos nos outros tipos de cancros em relaçao a Uterine Serous Carcinoma/Uterine Papillary Serous Carcinoma:"
   ]
  },
  {
   "cell_type": "code",
   "execution_count": 52,
   "metadata": {},
   "outputs": [
    {
     "data": {
      "text/plain": [
       "['ETFA',\n",
       " 'ARHGAP21',\n",
       " 'PTTG1',\n",
       " 'NDUFC1',\n",
       " 'RRP1',\n",
       " 'SEPT8',\n",
       " 'DNAJA4',\n",
       " 'RRN3',\n",
       " 'SLC35F5',\n",
       " 'INO80E']"
      ]
     },
     "execution_count": 52,
     "metadata": {},
     "output_type": "execute_result"
    }
   ],
   "source": [
    "lista_subexpressos=[]\n",
    "for i in top10_sub:\n",
    "    lista_subexpressos.append(data_RNA['Hugo_Symbol'][i])\n",
    "lista_subexpressos"
   ]
  },
  {
   "cell_type": "markdown",
   "metadata": {},
   "source": [
    "ARHGAP21 e RRN3 foram mais subexpressos em Uterine Endometrioid Carcinoma em relação a Uterine Serous Carcinoma/Uterine Papillary Serous Carcinoma.\n",
    "ETFA, PTTG1, NDUFC1, RRP1, SEPT8, DNAJA4, SLC35F5 e INO80E foram mais subexpressos em Uterine Mixed Endometrial Carcinoma em relação a Uterine Serous Carcinoma/Uterine Papillary Serous Carcinoma."
   ]
  },
  {
   "cell_type": "code",
   "execution_count": 53,
   "metadata": {},
   "outputs": [],
   "source": [
    "change_fold_mixed\n",
    "diff_mixed=change_fold_mixed.sort_values(by='Max.FoldChange',ascending =False)\n",
    "top10_sobre=diff_mixed.index[:10]\n",
    "top10_sub=diff_mixed.index[-10:]"
   ]
  },
  {
   "cell_type": "markdown",
   "metadata": {},
   "source": [
    "#### Lista de genes mais expressos nos outros tipos de cancros em relaçao a Uterine Mixed Endometrial Carcinoma:"
   ]
  },
  {
   "cell_type": "code",
   "execution_count": 54,
   "metadata": {},
   "outputs": [
    {
     "data": {
      "text/plain": [
       "['NCRNA00201',\n",
       " 'BAMBI',\n",
       " 'CCNB1IP1',\n",
       " 'TMEM101',\n",
       " 'FAM174B',\n",
       " 'LRG1',\n",
       " 'CREB3L4',\n",
       " 'TMUB1',\n",
       " 'PPP1R13L',\n",
       " 'DAPK3']"
      ]
     },
     "execution_count": 54,
     "metadata": {},
     "output_type": "execute_result"
    }
   ],
   "source": [
    "lista_sobrexpressos=[]\n",
    "\n",
    "for i in top10_sobre:\n",
    "    lista_sobrexpressos.append(data_RNA['Hugo_Symbol'][i])\n",
    "lista_sobrexpressos"
   ]
  },
  {
   "cell_type": "markdown",
   "metadata": {},
   "source": [
    "CCNB1IP1, CREB3L4 e TMUB1 foram mais sobreexpressos em Uterine Endometrioid Carcinoma em relação a Uterine Mixed Endometrial Carcinoma.\n",
    "NCRNA00201, BAMBI, TMEM101, FAM174B, LRG1, PPP1R13L e DAPK3 foram mais sobreexpressos em Uterine Serous Carcinoma/Uterine Papillary Serous Carcinoma  em relação a Uterine Mixed Endometrial Carcinoma."
   ]
  },
  {
   "cell_type": "markdown",
   "metadata": {},
   "source": [
    "#### Lista de genes menos expressos nos outros tipos de cancros em relaçao a Uterine Mixed Endometrial Carcinoma:"
   ]
  },
  {
   "cell_type": "code",
   "execution_count": 55,
   "metadata": {},
   "outputs": [
    {
     "data": {
      "text/plain": [
       "['RNF43',\n",
       " 'C1orf128',\n",
       " 'WDR5',\n",
       " 'SIK3',\n",
       " 'GATAD1',\n",
       " 'EPT1',\n",
       " 'TNFRSF6B',\n",
       " 'DOCK1',\n",
       " 'DDRGK1',\n",
       " 'NDUFA4L2']"
      ]
     },
     "execution_count": 55,
     "metadata": {},
     "output_type": "execute_result"
    }
   ],
   "source": [
    "lista_subexpressos=[]\n",
    "for i in top10_sub:\n",
    "    lista_subexpressos.append(data_RNA['Hugo_Symbol'][i])\n",
    "lista_subexpressos"
   ]
  },
  {
   "cell_type": "markdown",
   "metadata": {},
   "source": [
    "WDR5, EPT1 e DDRGK1 foram mais subexpressos em Uterine Endometrioid Carcinoma em relação a Uterine Mixed Endometrial Carcinoma.\n",
    "RNF43, C1orf128, SIK3, GATAD1, TNFRSF6B, DDRGK1 e NDUFA4L2 foram mais subexpressos em Uterine Serous Carcinoma/Uterine Papillary Serous Carcinoma  em relação a Uterine Mixed Endometrial Carcinoma."
   ]
  },
  {
   "cell_type": "code",
   "execution_count": 56,
   "metadata": {},
   "outputs": [],
   "source": [
    "change_fold_cn_high\n",
    "diff_cn_high=change_fold_cn_high.sort_values(by='Max.FoldChange',ascending =False)\n",
    "top10_sobre=diff_cn_high.index[:10]\n",
    "top10_sub=diff_cn_high.index[-10:]"
   ]
  },
  {
   "cell_type": "markdown",
   "metadata": {},
   "source": [
    "#### Lista de genes mais expressos nos outros tipos de metadados em relaçao a UCEC_CN_HIGH:"
   ]
  },
  {
   "cell_type": "code",
   "execution_count": 57,
   "metadata": {},
   "outputs": [
    {
     "data": {
      "text/plain": [
       "['JAG2',\n",
       " 'HDHD3',\n",
       " 'RHBDD3',\n",
       " 'CCNB1IP1',\n",
       " 'CARS',\n",
       " 'MGST1',\n",
       " 'SLC27A4',\n",
       " 'OLFM4',\n",
       " 'POLD1',\n",
       " 'TPCN1']"
      ]
     },
     "execution_count": 57,
     "metadata": {},
     "output_type": "execute_result"
    }
   ],
   "source": [
    "lista_sobrexpressos=[]\n",
    "\n",
    "for i in top10_sobre:\n",
    "    lista_sobrexpressos.append(data_RNA['Hugo_Symbol'][i])\n",
    "lista_sobrexpressos"
   ]
  },
  {
   "cell_type": "markdown",
   "metadata": {},
   "source": [
    "CCNB1IP1, MGST1 e TPCN1 formam mais sobreexpressos em UCEC_CN_LOW em relação a UCEC_CN_HIGH.\n",
    "CARS e OLFM4 formam mais sobreexpressos em UCEC_MSI em relação a UCEC_CN_HIGH.\n",
    "JAG2, HDHD3, RHBDD3, MGST1, SLC27A4 e POLD1 formam mais sobreexpressos em UCEC_POLE em relação a UCEC_CN_HIGH."
   ]
  },
  {
   "cell_type": "markdown",
   "metadata": {},
   "source": [
    "#### Lista de genes menos expressos nos outros tipos de metadados em relaçao a UCEC_CN_HIGH:"
   ]
  },
  {
   "cell_type": "code",
   "execution_count": 58,
   "metadata": {},
   "outputs": [
    {
     "data": {
      "text/plain": [
       "['KIF12',\n",
       " 'COPS3',\n",
       " 'ARHGAP29',\n",
       " 'ADM',\n",
       " 'URB1',\n",
       " 'CLK3',\n",
       " 'EPT1',\n",
       " 'GOLIM4',\n",
       " 'HMGCL',\n",
       " 'AMPD2']"
      ]
     },
     "execution_count": 58,
     "metadata": {},
     "output_type": "execute_result"
    }
   ],
   "source": [
    "lista_subexpressos=[]\n",
    "for i in top10_sub:\n",
    "    lista_subexpressos.append(data_RNA['Hugo_Symbol'][i])\n",
    "lista_subexpressos"
   ]
  },
  {
   "cell_type": "markdown",
   "metadata": {},
   "source": [
    "COPS3, ARHGAP29, GOLIM4 e AMPD2 formam mais subexpressos em UCEC_CN_LOW em relação a UCEC_CN_HIGH.\n",
    "URB1 e HMGCL formam mais subexpressos em UCEC_MSI em relação a UCEC_CN_HIGH.\n",
    "KIF12, ADM, URB1, CLK3 e EPT1 formam mais subexpressos em UCEC_POLE em relação a UCEC_CN_HIGH."
   ]
  },
  {
   "cell_type": "code",
   "execution_count": 59,
   "metadata": {},
   "outputs": [],
   "source": [
    "change_fold_cn_low\n",
    "diff_cn_low=change_fold_cn_low.sort_values(by='Max.FoldChange',ascending =False)\n",
    "top10_sobre=diff_cn_low.index[:10]\n",
    "top10_sub=diff_cn_low.index[-10:]"
   ]
  },
  {
   "cell_type": "markdown",
   "metadata": {},
   "source": [
    "#### Lista de genes mais expressos nos outros tipos de metadados em relaçao a  UCEC_CN_LOW:"
   ]
  },
  {
   "cell_type": "code",
   "execution_count": 60,
   "metadata": {},
   "outputs": [
    {
     "data": {
      "text/plain": [
       "['GRAMD4',\n",
       " 'MLX',\n",
       " 'SLC7A8',\n",
       " 'PEX2',\n",
       " 'S100A9',\n",
       " 'TNRC6A',\n",
       " 'DEFB1',\n",
       " 'MAPKSP1',\n",
       " 'SPSB3',\n",
       " 'CSRNP1']"
      ]
     },
     "execution_count": 60,
     "metadata": {},
     "output_type": "execute_result"
    }
   ],
   "source": [
    "lista_sobrexpressos=[]\n",
    "\n",
    "for i in top10_sobre:\n",
    "    lista_sobrexpressos.append(data_RNA['Hugo_Symbol'][i])\n",
    "lista_sobrexpressos"
   ]
  },
  {
   "cell_type": "markdown",
   "metadata": {},
   "source": [
    "GRAMD4, MAPKSP1 e SPSB3 foram mais sobreexpressos em UCEC_CN_HIGH em relação a UCEC_CN_LOW.\n",
    "SLC7A8, S100A9, TNRC6A e DEFB1 foram mais sobreexpressos em UCEC_MSI em relação a UCEC_CN_LOW.\n",
    "MLX, PEX2 e CSRNP1 foram mais sobreexpressos em UCEC_POLE em relação a UCEC_CN_LOW."
   ]
  },
  {
   "cell_type": "markdown",
   "metadata": {},
   "source": [
    "#### Lista de genes menos expressos nos outros tipos de metadados em relaçao a  UCEC_CN_LOW:"
   ]
  },
  {
   "cell_type": "code",
   "execution_count": 61,
   "metadata": {},
   "outputs": [
    {
     "data": {
      "text/plain": [
       "['GALNT11',\n",
       " 'SELM',\n",
       " 'TP53BP2',\n",
       " 'PSMD11',\n",
       " 'SYNJ2BP',\n",
       " 'C14orf119',\n",
       " 'SLC20A2',\n",
       " 'ELN',\n",
       " 'ACP5',\n",
       " 'OSBPL8']"
      ]
     },
     "execution_count": 61,
     "metadata": {},
     "output_type": "execute_result"
    }
   ],
   "source": [
    "lista_subexpressos=[]\n",
    "for i in top10_sub:\n",
    "    lista_subexpressos.append(data_RNA['Hugo_Symbol'][i])\n",
    "lista_subexpressos"
   ]
  },
  {
   "cell_type": "markdown",
   "metadata": {},
   "source": [
    "SYNJ2BP e C14orf119 foram mais subexpressos em UCEC_CN_HIGH em relação a UCEC_CN_LOW.\n",
    "TP53BP2, SLC20A2, ELN, ACP5 e OSBPL8  foram mais subexpressos em UCEC_MSI em relação a UCEC_CN_LOW.\n",
    "GALNT11, SELM e PSMD11foram mais subexpressos em UCEC_POLE em relação a UCEC_CN_LOW."
   ]
  },
  {
   "cell_type": "code",
   "execution_count": 63,
   "metadata": {},
   "outputs": [],
   "source": [
    "change_fold_pole\n",
    "diff_pole=change_fold_pole.sort_values(by='Max.FoldChange',ascending =False)\n",
    "top10_sobre=diff_pole.index[:10]\n",
    "top10_sub=diff_pole.index[-10:]"
   ]
  },
  {
   "cell_type": "markdown",
   "metadata": {},
   "source": [
    "#### Lista de genes mais expressos nos outros tipos de metadados em relaçao a UCEC_POLE:"
   ]
  },
  {
   "cell_type": "code",
   "execution_count": 64,
   "metadata": {},
   "outputs": [
    {
     "data": {
      "text/plain": [
       "['C22orf30',\n",
       " 'TSIX',\n",
       " 'TAF10',\n",
       " 'TGFBR1',\n",
       " 'RFK',\n",
       " 'SYTL1',\n",
       " 'SEMA3B',\n",
       " 'SRXN1',\n",
       " 'TP53INP1',\n",
       " 'S100A14']"
      ]
     },
     "execution_count": 64,
     "metadata": {},
     "output_type": "execute_result"
    }
   ],
   "source": [
    "lista_sobrexpressos=[]\n",
    "\n",
    "for i in top10_sobre:\n",
    "    lista_sobrexpressos.append(data_RNA['Hugo_Symbol'][i])\n",
    "lista_sobrexpressos"
   ]
  },
  {
   "cell_type": "markdown",
   "metadata": {},
   "source": [
    "TAF10, TGFBR1, RFK e SYTL1 foram mais sobreexpressos em UCEC_CN_HIGH em relação a UCEC_POLE.\n",
    "SEMA3B e S100A14 foram mais sobreexpressos em UCEC_CN_LOW em relação a UCEC_POLE.\n",
    "C22orf30, TSIX, SRXN1 e TP53INP1 foram mais sobreexpressos em UCEC_MSI em relação a UCEC_POLE."
   ]
  },
  {
   "cell_type": "markdown",
   "metadata": {},
   "source": [
    "#### Lista de genes menos expressos nos outros tipos de metadados em relaçao a UCEC_POLE:"
   ]
  },
  {
   "cell_type": "code",
   "execution_count": 65,
   "metadata": {},
   "outputs": [
    {
     "data": {
      "text/plain": [
       "['MRPL55',\n",
       " 'BCL2L11',\n",
       " 'C7orf28A',\n",
       " 'PVR',\n",
       " 'C16orf13',\n",
       " 'TCF4',\n",
       " 'IER5L',\n",
       " 'MRPL23',\n",
       " 'MAP2K7',\n",
       " 'COPS3']"
      ]
     },
     "execution_count": 65,
     "metadata": {},
     "output_type": "execute_result"
    }
   ],
   "source": [
    "lista_subexpressos=[]\n",
    "for i in top10_sub:\n",
    "    lista_subexpressos.append(data_RNA['Hugo_Symbol'][i])\n",
    "lista_subexpressos"
   ]
  },
  {
   "cell_type": "markdown",
   "metadata": {},
   "source": [
    "MRPL55, PVR, C16orf13, IER5L, MRPL23 e MAP2K7 foram mais subexpressos em UCEC_CN_HIGH em relação a UCEC_POLE.\n",
    "BCL2L11, C7orf28A e COPS3 foram mais subexpressos em UCEC_CN_LOW em relação a UCEC_POLE..\n",
    "TCF4 foi mais subexpressos em UCEC_MSI em relação a UCEC_POLE."
   ]
  },
  {
   "cell_type": "code",
   "execution_count": 66,
   "metadata": {},
   "outputs": [],
   "source": [
    "change_fold_msi\n",
    "diff_msi=change_fold_msi.sort_values(by='Max.FoldChange',ascending =False)\n",
    "top10_sobre=diff_msi.index[:10]\n",
    "top10_sub=diff_msi.index[-10:]"
   ]
  },
  {
   "cell_type": "markdown",
   "metadata": {},
   "source": [
    "#### Lista de genes mais expressos nos outros tipos de metadados em relaçao a UCEC_MSI:"
   ]
  },
  {
   "cell_type": "code",
   "execution_count": 67,
   "metadata": {},
   "outputs": [
    {
     "data": {
      "text/plain": [
       "['MMP9',\n",
       " 'C11orf49',\n",
       " 'INO80E',\n",
       " 'HOOK1',\n",
       " 'KRT6A',\n",
       " 'WIPF2',\n",
       " 'DPY30',\n",
       " 'DACT2',\n",
       " 'RFC1',\n",
       " 'MICAL2']"
      ]
     },
     "execution_count": 67,
     "metadata": {},
     "output_type": "execute_result"
    }
   ],
   "source": [
    "lista_sobrexpressos=[]\n",
    "\n",
    "for i in top10_sobre:\n",
    "    lista_sobrexpressos.append(data_RNA['Hugo_Symbol'][i])\n",
    "lista_sobrexpressos"
   ]
  },
  {
   "cell_type": "markdown",
   "metadata": {},
   "source": [
    "HOOK1 e RFC1 foram mais sobreexpressos em UCEC_CN_HIGH em relação a UCEC_MSI.\n",
    "MMP9, C11orf49, INO80E, KRT6A, WIPF2 e MICAL2 foram mais sobreexpressos em UCEC_CN_LOW em relação a UCEC_MSI.\n",
    "DPY30 e DACT2 foram mais sobreexpressos em UCEC_POLE em relação a UCEC_MSI."
   ]
  },
  {
   "cell_type": "markdown",
   "metadata": {},
   "source": [
    "#### Lista de genes menos expressos nos outros tipos de metadados em relaçao a UCEC_MSI:"
   ]
  },
  {
   "cell_type": "code",
   "execution_count": 68,
   "metadata": {},
   "outputs": [
    {
     "data": {
      "text/plain": [
       "['BACE1',\n",
       " 'HEATR1',\n",
       " 'SUV420H1',\n",
       " 'F3',\n",
       " 'TACC2',\n",
       " 'PREP',\n",
       " 'C1orf186',\n",
       " 'BTN3A2',\n",
       " 'HP',\n",
       " 'PLAT']"
      ]
     },
     "execution_count": 68,
     "metadata": {},
     "output_type": "execute_result"
    }
   ],
   "source": [
    "lista_subexpressos=[]\n",
    "for i in top10_sub:\n",
    "    lista_subexpressos.append(data_RNA['Hugo_Symbol'][i])\n",
    "lista_subexpressos"
   ]
  },
  {
   "cell_type": "markdown",
   "metadata": {},
   "source": [
    "BACE1, F3, TACC2, HP e PLAT foram mais subexpressos em UCEC_CN_HIGH em relação a UCEC_MSI.\n",
    "C1orf186 foi mais subexpressos em UCEC_CN_LOW em relação a UCEC_MSI.\n",
    "HEATR1, SUV420H1, PREP e BTN3A2 foram mais subexpressos em UCEC_POLE em relação a UCEC_MSI."
   ]
  },
  {
   "cell_type": "markdown",
   "metadata": {},
   "source": [
    "## Etapa 4: Redução de dimensionalidade"
   ]
  },
  {
   "cell_type": "markdown",
   "metadata": {},
   "source": [
    "### PCA:"
   ]
  },
  {
   "cell_type": "code",
   "execution_count": 90,
   "metadata": {},
   "outputs": [
    {
     "name": "stdout",
     "output_type": "stream",
     "text": [
      "[0.08766854 0.08050388 0.06143148 0.05073685 0.04323084 0.04015578\n",
      " 0.03675657 0.02967816 0.02779954 0.02665861]\n",
      "0.4846202438730703\n"
     ]
    },
    {
     "data": {
      "image/png": "[encoded data removed]",
      "text/plain": [
       "<Figure size 432x288 with 1 Axes>"
      ]
     },
     "metadata": {
      "needs_background": "light"
     },
     "output_type": "display_data"
    }
   ],
   "source": [
    "from sklearn.decomposition import PCA\n",
    "from sklearn.preprocessing import StandardScaler\n",
    "\n",
    "n=10\n",
    "pca=PCA(n_components=n)\n",
    "pca.fit(data_all_c.iloc[ : ,:-1])\n",
    "x_reduced=pca.transform(data_all_c.iloc[ : ,:-1])\n",
    "print(pca.explained_variance_ratio_)\n",
    "print(pca.explained_variance_ratio_.sum())\n",
    "plt.bar(range(n), pca.explained_variance_ratio_*100)\n",
    "plt.xticks(range(n), ['PC' + str(i) for i in range(1, n+1)])\n",
    "plt.show()"
   ]
  },
  {
   "cell_type": "code",
   "execution_count": 91,
   "metadata": {},
   "outputs": [
    {
     "name": "stdout",
     "output_type": "stream",
     "text": [
      "0.48309979906204065\n",
      "[0.08678782 0.07986293 0.06200016 0.04996659 0.0441072  0.04008402\n",
      " 0.03622654 0.03031508 0.02753182 0.02621764]\n"
     ]
    },
    {
     "data": {
      "image/png": "[encoded data removed]",
      "text/plain": [
       "<Figure size 432x288 with 1 Axes>"
      ]
     },
     "metadata": {
      "needs_background": "light"
     },
     "output_type": "display_data"
    }
   ],
   "source": [
    "from sklearn.decomposition import PCA\n",
    "from sklearn.preprocessing import StandardScaler\n",
    "\n",
    "n=10\n",
    "pca_2=PCA(n_components=n)\n",
    "pca_2.fit(data_all_b.iloc[ : ,:-1])\n",
    "x_reduced_2=pca_2.transform(data_all_b.iloc[ : ,:-1])\n",
    "print(pca_2.explained_variance_ratio_.sum())\n",
    "print(pca_2.explained_variance_ratio_)\n",
    "\n",
    "plt.bar(range(n), pca_2.explained_variance_ratio_*100)\n",
    "plt.xticks(range(n), ['PC' + str(i) for i in range(1, n+1)])\n",
    "plt.show()"
   ]
  },
  {
   "cell_type": "markdown",
   "metadata": {},
   "source": [
    "#### Scater Plot do PCA:"
   ]
  },
  {
   "cell_type": "code",
   "execution_count": 86,
   "metadata": {},
   "outputs": [
    {
     "data": {
      "image/png": "[encoded data removed]",
      "text/plain": [
       "<Figure size 432x288 with 1 Axes>"
      ]
     },
     "metadata": {
      "needs_background": "light"
     },
     "output_type": "display_data"
    }
   ],
   "source": [
    "d_ind = data_all_c.copy()\n",
    "l = list(range(len(data_all_c.index)))\n",
    "d_ind.set_index([l], inplace = True)\n",
    "for s in d_ind['CANCER_DET'].unique():\n",
    "    sp = d_ind.index[d_ind['CANCER_DET']==s]-1\n",
    "    plt.plot(x_reduced[sp,0],x_reduced[sp,1], 'o' , label=s)\n",
    "plt.title(\"PCA\")\n",
    "plt.legend(loc='best', shadow=False)\n",
    "plt.show()\n"
   ]
  },
  {
   "cell_type": "code",
   "execution_count": 87,
   "metadata": {},
   "outputs": [
    {
     "data": {
      "image/png": "[encoded data removed]",
      "text/plain": [
       "<Figure size 432x288 with 1 Axes>"
      ]
     },
     "metadata": {
      "needs_background": "light"
     },
     "output_type": "display_data"
    }
   ],
   "source": [
    "d_ind_2 = data_all_b.copy()\n",
    "l_2 = list(range(len(data_all_b.index)))\n",
    "d_ind_2.set_index([l_2], inplace = True)\n",
    "for s in d_ind_2['CANCER_SUB'].unique():\n",
    "    sp = d_ind_2.index[d_ind_2['CANCER_SUB']==s]-1\n",
    "    plt.plot(x_reduced_2[sp,0],x_reduced_2[sp,1], 'o' , label=s)\n",
    "plt.title(\"PCA\")\n",
    "plt.legend(loc='best', shadow=False)\n",
    "plt.show()"
   ]
  },
  {
   "cell_type": "markdown",
   "metadata": {},
   "source": [
    "Na nossa análise fizemos PCA's para os dois datasets, em ambas utilizamos 10 componentes. Os resultados foram bastante semelhantes, onde os 10 primeiros componentes explicam apenas 48.3% da variabilidade das amostras para o dataset data_all_c e 48.5% da variabilidade das amostras para o dataset data_all_b. \n",
    "\n",
    "Para visualizar melhor os resultados fizemos um scatter plot para cada pca de cada dataset onde se comprova que as amostras não se agrupam de forma alguma.\n",
    "\n",
    "Uma conclusão que se pode retirar destes resultados é que os dados não são facilmente separáveis e que estes valores de metadados não conseguem separar os dados por diferentes áreas."
   ]
  },
  {
   "cell_type": "markdown",
   "metadata": {},
   "source": [
    "## Etapa 5: Clustering"
   ]
  },
  {
   "cell_type": "markdown",
   "metadata": {},
   "source": [
    "### Clustering Hierarchical:"
   ]
  },
  {
   "cell_type": "code",
   "execution_count": 73,
   "metadata": {},
   "outputs": [
    {
     "data": {
      "image/png": "[encoded data removed]",
      "text/plain": [
       "<Figure size 1800x720 with 1 Axes>"
      ]
     },
     "metadata": {
      "needs_background": "light"
     },
     "output_type": "display_data"
    }
   ],
   "source": [
    "from scipy.cluster.hierarchy import dendrogram, linkage\n",
    "\n",
    "Z = linkage(data_all_c.iloc[:,:-1], method='ward', metric='euclidean')\n",
    "\n",
    "plt.figure(figsize=(25, 10))\n",
    "dendrogram(\n",
    "    Z,\n",
    "    labels=list(data_all_c.iloc[:,-1]),\n",
    "    leaf_rotation=90.,  \n",
    "    leaf_font_size=8.,  \n",
    ")\n",
    "\n",
    "plt.title('Hierarchical Clustering Dendrogram')\n",
    "plt.ylabel('distance')\n",
    "\n",
    "label_colors = {'Uterine Serous Carcinoma/Uterine Papillary Serous Carcinoma': 'r', 'Uterine Endometrioid Carcinoma': 'g', 'Uterine Mixed Endometrial Carcinoma': 'b'}\n",
    "ax = plt.gca()\n",
    "xlbls = ax.get_xmajorticklabels()\n",
    "for lbl in xlbls:\n",
    "    lbl.set_color(label_colors[lbl.get_text()])\n",
    "\n",
    "plt.show()"
   ]
  },
  {
   "cell_type": "code",
   "execution_count": 74,
   "metadata": {},
   "outputs": [
    {
     "data": {
      "image/png": "[encoded data removed]",
      "text/plain": [
       "<Figure size 1800x720 with 1 Axes>"
      ]
     },
     "metadata": {},
     "output_type": "display_data"
    }
   ],
   "source": [
    "Z = linkage(data_all_b.iloc[:,:-1], method='ward', metric='euclidean')\n",
    "\n",
    "plt.figure(figsize=(25, 10))\n",
    "dendrogram(\n",
    "    Z,\n",
    "    labels=list(data_all_b.iloc[:,-1]),\n",
    "    leaf_rotation=90.,  \n",
    "    leaf_font_size=8.,  \n",
    ")\n",
    "\n",
    "plt.title('Hierarchical Clustering Dendrogram')\n",
    "plt.ylabel('distance')\n",
    "\n",
    "label_colors = {'UCEC_CN_HIGH': 'r', 'UCEC_CN_LOW': 'g', 'UCEC_POLE': 'b', 'UCEC_MSI': 'y'}\n",
    "ax = plt.gca()\n",
    "xlbls = ax.get_xmajorticklabels()\n",
    "for lbl in xlbls:\n",
    "    lbl.set_color(label_colors[lbl.get_text()])\n",
    "\n",
    "plt.show()"
   ]
  },
  {
   "cell_type": "markdown",
   "metadata": {},
   "source": [
    "No artigo os autores realizaram clustering hierárquico não supervisionado, que agrupou as amostras em 4 grupos diferentes. Os três primeiros clusters eram constítuidos quase exclusivamente (97%) por carcinoma endométricos. \n",
    "\n",
    "Tal como no artigo, utilizamos clustering hierárquico não supervisionado com o método ward e a métrica euclideana.\n",
    "\n",
    "Podemos observar que em ambos os casos os dados foram divididos em 6 clusters bem definidos. No entanto, quando atribuimos os nomes dos metadados aos dados verificamos que a divisão dos clusters nao está feita consoante os metadados.\n",
    "\n",
    "Quando comparamos os resultados obtidos com os resultados obtidos no artigo (Supplementary\tMethods\tS9) podemos comprovar que com os metadados analisados e com a informação fornecida não é possivel fazer uma divisão correta. Os 4 clusters, falados no artigo que conseguem dividir os dados corretamente, foram feitos de acordo com outras divisões de metadados. Para além disso foram feitos por uma ferramenta (SuperCluster) de cluster diferente às que foram utilizadas neste trabalho, não sabendo se usam as mesmas metricas nessa ferramenta ou não.\n",
    "\n",
    "Assim, podemos concluir que os valores dos metadados não são os mais adquados para separar as amostras. Possivelmente uma junção de vários metadados seria uma solução melhor para separar as samples dos pacientes.\n"
   ]
  },
  {
   "cell_type": "markdown",
   "metadata": {},
   "source": [
    "### Kmeans"
   ]
  },
  {
   "cell_type": "markdown",
   "metadata": {},
   "source": [
    "#### Find the appropriate cluster number:"
   ]
  },
  {
   "cell_type": "code",
   "execution_count": 75,
   "metadata": {},
   "outputs": [
    {
     "data": {
      "image/png": "[encoded data removed]",
      "text/plain": [
       "<Figure size 720x576 with 1 Axes>"
      ]
     },
     "metadata": {
      "needs_background": "light"
     },
     "output_type": "display_data"
    }
   ],
   "source": [
    "plt.figure(figsize=(10, 8))\n",
    "from sklearn.cluster import KMeans\n",
    "wcss = []\n",
    "for i in range(1, 11):\n",
    "    kmeans = KMeans(n_clusters = i, init = 'k-means++', random_state = 42)\n",
    "    kmeans.fit(data_all_c.iloc[ : ,:-1])\n",
    "    wcss.append(kmeans.inertia_)\n",
    "plt.plot(range(1, 11), wcss)\n",
    "plt.title('The Elbow Method')\n",
    "plt.xlabel('Number of clusters')\n",
    "plt.ylabel('WCSS')\n",
    "plt.show()"
   ]
  },
  {
   "cell_type": "markdown",
   "metadata": {},
   "source": [
    "#### Matriz de confusão:"
   ]
  },
  {
   "cell_type": "code",
   "execution_count": 76,
   "metadata": {},
   "outputs": [
    {
     "data": {
      "text/html": [
       "<div>\n",
       "<style scoped>\n",
       "    .dataframe tbody tr th:only-of-type {\n",
       "        vertical-align: middle;\n",
       "    }\n",
       "\n",
       "    .dataframe tbody tr th {\n",
       "        vertical-align: top;\n",
       "    }\n",
       "\n",
       "    .dataframe thead th {\n",
       "        text-align: right;\n",
       "    }\n",
       "</style>\n",
       "<table border=\"1\" class=\"dataframe\">\n",
       "  <thead>\n",
       "    <tr style=\"text-align: right;\">\n",
       "      <th>CANCER_DET</th>\n",
       "      <th>Uterine Endometrioid Carcinoma</th>\n",
       "      <th>Uterine Mixed Endometrial Carcinoma</th>\n",
       "      <th>Uterine Serous Carcinoma/Uterine Papillary Serous Carcinoma</th>\n",
       "    </tr>\n",
       "    <tr>\n",
       "      <th>clusters</th>\n",
       "      <th></th>\n",
       "      <th></th>\n",
       "      <th></th>\n",
       "    </tr>\n",
       "  </thead>\n",
       "  <tbody>\n",
       "    <tr>\n",
       "      <th>0</th>\n",
       "      <td>21</td>\n",
       "      <td>1</td>\n",
       "      <td>6</td>\n",
       "    </tr>\n",
       "    <tr>\n",
       "      <th>1</th>\n",
       "      <td>117</td>\n",
       "      <td>2</td>\n",
       "      <td>35</td>\n",
       "    </tr>\n",
       "    <tr>\n",
       "      <th>2</th>\n",
       "      <td>157</td>\n",
       "      <td>12</td>\n",
       "      <td>38</td>\n",
       "    </tr>\n",
       "    <tr>\n",
       "      <th>3</th>\n",
       "      <td>102</td>\n",
       "      <td>6</td>\n",
       "      <td>30</td>\n",
       "    </tr>\n",
       "  </tbody>\n",
       "</table>\n",
       "</div>"
      ],
      "text/plain": [
       "CANCER_DET  Uterine Endometrioid Carcinoma  \\\n",
       "clusters                                     \n",
       "0                                       21   \n",
       "1                                      117   \n",
       "2                                      157   \n",
       "3                                      102   \n",
       "\n",
       "CANCER_DET  Uterine Mixed Endometrial Carcinoma  \\\n",
       "clusters                                          \n",
       "0                                             1   \n",
       "1                                             2   \n",
       "2                                            12   \n",
       "3                                             6   \n",
       "\n",
       "CANCER_DET  Uterine Serous Carcinoma/Uterine Papillary Serous Carcinoma  \n",
       "clusters                                                                 \n",
       "0                                                           6            \n",
       "1                                                          35            \n",
       "2                                                          38            \n",
       "3                                                          30            "
      ]
     },
     "execution_count": 76,
     "metadata": {},
     "output_type": "execute_result"
    }
   ],
   "source": [
    "from sklearn.cluster import KMeans\n",
    "import numpy as np\n",
    "\n",
    "k=4\n",
    "kmeans_data = KMeans(n_clusters=k, max_iter=1000)\n",
    "kmeans_data.fit(data_all_c.iloc[ : ,:-1])\n",
    "labels = kmeans_data.labels_\n",
    "centroids = kmeans_data.cluster_centers_\n",
    "\n",
    "pd.crosstab(labels,data_all_c[\"CANCER_DET\"], rownames=['clusters'] )\n"
   ]
  },
  {
   "cell_type": "markdown",
   "metadata": {},
   "source": [
    "####  Find the appropriate cluster number:\n"
   ]
  },
  {
   "cell_type": "code",
   "execution_count": 77,
   "metadata": {},
   "outputs": [
    {
     "data": {
      "image/png": "[encoded data removed]",
      "text/plain": [
       "<Figure size 720x576 with 1 Axes>"
      ]
     },
     "metadata": {
      "needs_background": "light"
     },
     "output_type": "display_data"
    }
   ],
   "source": [
    "plt.figure(figsize=(10, 8))\n",
    "wcss_2 = []\n",
    "for i in range(1, 11):\n",
    "    kmeans_2 = KMeans(n_clusters = i, init = 'k-means++', random_state = 42)\n",
    "    kmeans_2.fit(data_all_b.iloc[ : ,:-1])\n",
    "    wcss_2.append(kmeans_2.inertia_)\n",
    "plt.plot(range(1, 11), wcss_2)#### Matriz de confusão:\n",
    "plt.title('The Elbow Method')\n",
    "plt.xlabel('Number of clusters')\n",
    "plt.ylabel('WCSS')\n",
    "plt.show()"
   ]
  },
  {
   "cell_type": "markdown",
   "metadata": {},
   "source": [
    "#### Matriz de confusão:"
   ]
  },
  {
   "cell_type": "code",
   "execution_count": 79,
   "metadata": {},
   "outputs": [
    {
     "data": {
      "text/html": [
       "<div>\n",
       "<style scoped>\n",
       "    .dataframe tbody tr th:only-of-type {\n",
       "        vertical-align: middle;\n",
       "    }\n",
       "\n",
       "    .dataframe tbody tr th {\n",
       "        vertical-align: top;\n",
       "    }\n",
       "\n",
       "    .dataframe thead th {\n",
       "        text-align: right;\n",
       "    }\n",
       "</style>\n",
       "<table border=\"1\" class=\"dataframe\">\n",
       "  <thead>\n",
       "    <tr style=\"text-align: right;\">\n",
       "      <th>CANCER_SUB</th>\n",
       "      <th>UCEC_CN_HIGH</th>\n",
       "      <th>UCEC_CN_LOW</th>\n",
       "      <th>UCEC_MSI</th>\n",
       "      <th>UCEC_POLE</th>\n",
       "    </tr>\n",
       "    <tr>\n",
       "      <th>clusters</th>\n",
       "      <th></th>\n",
       "      <th></th>\n",
       "      <th></th>\n",
       "      <th></th>\n",
       "    </tr>\n",
       "  </thead>\n",
       "  <tbody>\n",
       "    <tr>\n",
       "      <th>0</th>\n",
       "      <td>47</td>\n",
       "      <td>41</td>\n",
       "      <td>35</td>\n",
       "      <td>9</td>\n",
       "    </tr>\n",
       "    <tr>\n",
       "      <th>1</th>\n",
       "      <td>52</td>\n",
       "      <td>57</td>\n",
       "      <td>38</td>\n",
       "      <td>13</td>\n",
       "    </tr>\n",
       "    <tr>\n",
       "      <th>2</th>\n",
       "      <td>6</td>\n",
       "      <td>5</td>\n",
       "      <td>9</td>\n",
       "      <td>7</td>\n",
       "    </tr>\n",
       "    <tr>\n",
       "      <th>3</th>\n",
       "      <td>58</td>\n",
       "      <td>44</td>\n",
       "      <td>65</td>\n",
       "      <td>20</td>\n",
       "    </tr>\n",
       "  </tbody>\n",
       "</table>\n",
       "</div>"
      ],
      "text/plain": [
       "CANCER_SUB  UCEC_CN_HIGH  UCEC_CN_LOW  UCEC_MSI  UCEC_POLE\n",
       "clusters                                                  \n",
       "0                     47           41        35          9\n",
       "1                     52           57        38         13\n",
       "2                      6            5         9          7\n",
       "3                     58           44        65         20"
      ]
     },
     "execution_count": 79,
     "metadata": {},
     "output_type": "execute_result"
    }
   ],
   "source": [
    "kmeans_data_2 = KMeans(n_clusters=k, max_iter=1000)\n",
    "kmeans_data_2.fit(data_all_b.iloc[ : ,:-1])\n",
    "labels_2 = kmeans_data_2.labels_\n",
    "centroids_2 = kmeans_data_2.cluster_centers_\n",
    "\n",
    "pd.crosstab(labels,data_all_b[\"CANCER_SUB\"], rownames=['clusters'])"
   ]
  },
  {
   "cell_type": "markdown",
   "metadata": {},
   "source": [
    "#### Scatter plot:"
   ]
  },
  {
   "cell_type": "code",
   "execution_count": 80,
   "metadata": {},
   "outputs": [
    {
     "data": {
      "image/png": "[encoded data removed]",
      "text/plain": [
       "<Figure size 432x288 with 1 Axes>"
      ]
     },
     "metadata": {
      "needs_background": "light"
     },
     "output_type": "display_data"
    }
   ],
   "source": [
    "X = data_all_c.iloc[ : ,:-1].copy()\n",
    "X.reset_index(drop = True,inplace = True )\n",
    "arr = np.array(X)\n",
    "for i in range(k):\n",
    "    ds = arr[np.where(labels==i)]\n",
    "    plt.scatter(ds[:,0],ds[:,1],cmap = \"nipy_spectral\")\n",
    "    lines = plt.scatter(centroids[i,0],centroids[i,1], c = 'black', marker = 'X', s =150)  \n",
    "plt.show()"
   ]
  },
  {
   "cell_type": "code",
   "execution_count": 81,
   "metadata": {},
   "outputs": [
    {
     "data": {
      "image/png": "[encoded data removed]",
      "text/plain": [
       "<Figure size 432x288 with 1 Axes>"
      ]
     },
     "metadata": {
      "needs_background": "light"
     },
     "output_type": "display_data"
    }
   ],
   "source": [
    "X = data_all_b.iloc[ : ,:-1].copy()\n",
    "X.reset_index(drop = True,inplace = True )\n",
    "arr = np.array(X)\n",
    "for i in range(k):\n",
    "    ds = arr[np.where(labels_2==i)]\n",
    "    plt.scatter(ds[:,0],ds[:,1],cmap = \"nipy_spectral\")\n",
    "    lines = plt.scatter(centroids_2[i,0],centroids_2[i,1], c = 'black', marker = 'X', s =150)  \n",
    "plt.show()"
   ]
  },
  {
   "cell_type": "markdown",
   "metadata": {},
   "source": [
    "Primeiramente , para realizar o K-means, calculamos qual o número de clusters apropriados, utilizando o \"Elbow Method\" para cada dataset, sendo que os resultados não foram, de todo, conclusivos. Neste método, o valor de inertia tende para 0 quando enquanto aumentamos o número de cluster, escolhendo o número de clusters onde a diminuição da inertia compensa o aumento dos clusters. Através da análise dos nossos dados podemos comprovar que o valor de inertia para os clusters que aparecem ainda não está perto de 0. Mesmo assim escolhemos 4 como número de clusters.\n",
    "\n",
    "Através dos scatter plot podemos observar que para ambos os datasets os centroids estão proximos uns dos outros e que as amostras estão próximas umas das outras. Isto comprova o que foi dito acima. O número de clusters não é suficiente para dividir as amostras de modo efectivo. Para além disso, podemos sugerir que este tipo de metadados não é suficiente para separar as amostras."
   ]
  },
  {
   "cell_type": "code",
   "execution_count": null,
   "metadata": {},
   "outputs": [],
   "source": []
  }
 ],
 "metadata": {
  "kernelspec": {
   "display_name": "Python 3",
   "language": "python",
   "name": "python3"
  },
  "language_info": {
   "codemirror_mode": {
    "name": "ipython",
    "version": 3
   },
   "file_extension": ".py",
   "mimetype": "text/x-python",
   "name": "python",
   "nbconvert_exporter": "python",
   "pygments_lexer": "ipython3",
   "version": "3.7.1"
  }
 },
 "nbformat": 4,
 "nbformat_minor": 2
}
